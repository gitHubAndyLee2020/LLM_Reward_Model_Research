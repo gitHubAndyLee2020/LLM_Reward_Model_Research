{
  "nbformat": 4,
  "nbformat_minor": 0,
  "metadata": {
    "colab": {
      "provenance": [],
      "machine_shape": "hm",
      "gpuType": "A100",
      "authorship_tag": "ABX9TyNEJr1m9NCH0w1X2j5bFpn7",
      "include_colab_link": true
    },
    "kernelspec": {
      "name": "python3",
      "display_name": "Python 3"
    },
    "language_info": {
      "name": "python"
    },
    "accelerator": "GPU",
    "widgets": {
      "application/vnd.jupyter.widget-state+json": {
        "2488005441d1441191edeb5e80ac9e41": {
          "model_module": "@jupyter-widgets/controls",
          "model_name": "HBoxModel",
          "model_module_version": "1.5.0",
          "state": {
            "_dom_classes": [],
            "_model_module": "@jupyter-widgets/controls",
            "_model_module_version": "1.5.0",
            "_model_name": "HBoxModel",
            "_view_count": null,
            "_view_module": "@jupyter-widgets/controls",
            "_view_module_version": "1.5.0",
            "_view_name": "HBoxView",
            "box_style": "",
            "children": [
              "IPY_MODEL_6fd2503920224db0985889ed1fedcd6c",
              "IPY_MODEL_e37c9739b87e434d8a996cd68770a70a",
              "IPY_MODEL_6395597fb777452984415aa35a6c67b3"
            ],
            "layout": "IPY_MODEL_3cf536ff222c4b24a334aac1ab56c6df"
          }
        },
        "6fd2503920224db0985889ed1fedcd6c": {
          "model_module": "@jupyter-widgets/controls",
          "model_name": "HTMLModel",
          "model_module_version": "1.5.0",
          "state": {
            "_dom_classes": [],
            "_model_module": "@jupyter-widgets/controls",
            "_model_module_version": "1.5.0",
            "_model_name": "HTMLModel",
            "_view_count": null,
            "_view_module": "@jupyter-widgets/controls",
            "_view_module_version": "1.5.0",
            "_view_name": "HTMLView",
            "description": "",
            "description_tooltip": null,
            "layout": "IPY_MODEL_e409bdcb33b64c57b9ec9cb969c6226e",
            "placeholder": "​",
            "style": "IPY_MODEL_238416daa2ca4d6c89d9baa13f7697b0",
            "value": "Downloading (…)okenizer_config.json: 100%"
          }
        },
        "e37c9739b87e434d8a996cd68770a70a": {
          "model_module": "@jupyter-widgets/controls",
          "model_name": "FloatProgressModel",
          "model_module_version": "1.5.0",
          "state": {
            "_dom_classes": [],
            "_model_module": "@jupyter-widgets/controls",
            "_model_module_version": "1.5.0",
            "_model_name": "FloatProgressModel",
            "_view_count": null,
            "_view_module": "@jupyter-widgets/controls",
            "_view_module_version": "1.5.0",
            "_view_name": "ProgressView",
            "bar_style": "success",
            "description": "",
            "description_tooltip": null,
            "layout": "IPY_MODEL_3a0f9f47756044eda8b643bbc847b7b4",
            "max": 28,
            "min": 0,
            "orientation": "horizontal",
            "style": "IPY_MODEL_4c2937f2bfdb49f788f3edfd1563afce",
            "value": 28
          }
        },
        "6395597fb777452984415aa35a6c67b3": {
          "model_module": "@jupyter-widgets/controls",
          "model_name": "HTMLModel",
          "model_module_version": "1.5.0",
          "state": {
            "_dom_classes": [],
            "_model_module": "@jupyter-widgets/controls",
            "_model_module_version": "1.5.0",
            "_model_name": "HTMLModel",
            "_view_count": null,
            "_view_module": "@jupyter-widgets/controls",
            "_view_module_version": "1.5.0",
            "_view_name": "HTMLView",
            "description": "",
            "description_tooltip": null,
            "layout": "IPY_MODEL_ca9562626fc64944acca021d26d1888d",
            "placeholder": "​",
            "style": "IPY_MODEL_c5bdaf70f62c4c17a6d36bd8a055102c",
            "value": " 28.0/28.0 [00:00&lt;00:00, 1.84kB/s]"
          }
        },
        "3cf536ff222c4b24a334aac1ab56c6df": {
          "model_module": "@jupyter-widgets/base",
          "model_name": "LayoutModel",
          "model_module_version": "1.2.0",
          "state": {
            "_model_module": "@jupyter-widgets/base",
            "_model_module_version": "1.2.0",
            "_model_name": "LayoutModel",
            "_view_count": null,
            "_view_module": "@jupyter-widgets/base",
            "_view_module_version": "1.2.0",
            "_view_name": "LayoutView",
            "align_content": null,
            "align_items": null,
            "align_self": null,
            "border": null,
            "bottom": null,
            "display": null,
            "flex": null,
            "flex_flow": null,
            "grid_area": null,
            "grid_auto_columns": null,
            "grid_auto_flow": null,
            "grid_auto_rows": null,
            "grid_column": null,
            "grid_gap": null,
            "grid_row": null,
            "grid_template_areas": null,
            "grid_template_columns": null,
            "grid_template_rows": null,
            "height": null,
            "justify_content": null,
            "justify_items": null,
            "left": null,
            "margin": null,
            "max_height": null,
            "max_width": null,
            "min_height": null,
            "min_width": null,
            "object_fit": null,
            "object_position": null,
            "order": null,
            "overflow": null,
            "overflow_x": null,
            "overflow_y": null,
            "padding": null,
            "right": null,
            "top": null,
            "visibility": null,
            "width": null
          }
        },
        "e409bdcb33b64c57b9ec9cb969c6226e": {
          "model_module": "@jupyter-widgets/base",
          "model_name": "LayoutModel",
          "model_module_version": "1.2.0",
          "state": {
            "_model_module": "@jupyter-widgets/base",
            "_model_module_version": "1.2.0",
            "_model_name": "LayoutModel",
            "_view_count": null,
            "_view_module": "@jupyter-widgets/base",
            "_view_module_version": "1.2.0",
            "_view_name": "LayoutView",
            "align_content": null,
            "align_items": null,
            "align_self": null,
            "border": null,
            "bottom": null,
            "display": null,
            "flex": null,
            "flex_flow": null,
            "grid_area": null,
            "grid_auto_columns": null,
            "grid_auto_flow": null,
            "grid_auto_rows": null,
            "grid_column": null,
            "grid_gap": null,
            "grid_row": null,
            "grid_template_areas": null,
            "grid_template_columns": null,
            "grid_template_rows": null,
            "height": null,
            "justify_content": null,
            "justify_items": null,
            "left": null,
            "margin": null,
            "max_height": null,
            "max_width": null,
            "min_height": null,
            "min_width": null,
            "object_fit": null,
            "object_position": null,
            "order": null,
            "overflow": null,
            "overflow_x": null,
            "overflow_y": null,
            "padding": null,
            "right": null,
            "top": null,
            "visibility": null,
            "width": null
          }
        },
        "238416daa2ca4d6c89d9baa13f7697b0": {
          "model_module": "@jupyter-widgets/controls",
          "model_name": "DescriptionStyleModel",
          "model_module_version": "1.5.0",
          "state": {
            "_model_module": "@jupyter-widgets/controls",
            "_model_module_version": "1.5.0",
            "_model_name": "DescriptionStyleModel",
            "_view_count": null,
            "_view_module": "@jupyter-widgets/base",
            "_view_module_version": "1.2.0",
            "_view_name": "StyleView",
            "description_width": ""
          }
        },
        "3a0f9f47756044eda8b643bbc847b7b4": {
          "model_module": "@jupyter-widgets/base",
          "model_name": "LayoutModel",
          "model_module_version": "1.2.0",
          "state": {
            "_model_module": "@jupyter-widgets/base",
            "_model_module_version": "1.2.0",
            "_model_name": "LayoutModel",
            "_view_count": null,
            "_view_module": "@jupyter-widgets/base",
            "_view_module_version": "1.2.0",
            "_view_name": "LayoutView",
            "align_content": null,
            "align_items": null,
            "align_self": null,
            "border": null,
            "bottom": null,
            "display": null,
            "flex": null,
            "flex_flow": null,
            "grid_area": null,
            "grid_auto_columns": null,
            "grid_auto_flow": null,
            "grid_auto_rows": null,
            "grid_column": null,
            "grid_gap": null,
            "grid_row": null,
            "grid_template_areas": null,
            "grid_template_columns": null,
            "grid_template_rows": null,
            "height": null,
            "justify_content": null,
            "justify_items": null,
            "left": null,
            "margin": null,
            "max_height": null,
            "max_width": null,
            "min_height": null,
            "min_width": null,
            "object_fit": null,
            "object_position": null,
            "order": null,
            "overflow": null,
            "overflow_x": null,
            "overflow_y": null,
            "padding": null,
            "right": null,
            "top": null,
            "visibility": null,
            "width": null
          }
        },
        "4c2937f2bfdb49f788f3edfd1563afce": {
          "model_module": "@jupyter-widgets/controls",
          "model_name": "ProgressStyleModel",
          "model_module_version": "1.5.0",
          "state": {
            "_model_module": "@jupyter-widgets/controls",
            "_model_module_version": "1.5.0",
            "_model_name": "ProgressStyleModel",
            "_view_count": null,
            "_view_module": "@jupyter-widgets/base",
            "_view_module_version": "1.2.0",
            "_view_name": "StyleView",
            "bar_color": null,
            "description_width": ""
          }
        },
        "ca9562626fc64944acca021d26d1888d": {
          "model_module": "@jupyter-widgets/base",
          "model_name": "LayoutModel",
          "model_module_version": "1.2.0",
          "state": {
            "_model_module": "@jupyter-widgets/base",
            "_model_module_version": "1.2.0",
            "_model_name": "LayoutModel",
            "_view_count": null,
            "_view_module": "@jupyter-widgets/base",
            "_view_module_version": "1.2.0",
            "_view_name": "LayoutView",
            "align_content": null,
            "align_items": null,
            "align_self": null,
            "border": null,
            "bottom": null,
            "display": null,
            "flex": null,
            "flex_flow": null,
            "grid_area": null,
            "grid_auto_columns": null,
            "grid_auto_flow": null,
            "grid_auto_rows": null,
            "grid_column": null,
            "grid_gap": null,
            "grid_row": null,
            "grid_template_areas": null,
            "grid_template_columns": null,
            "grid_template_rows": null,
            "height": null,
            "justify_content": null,
            "justify_items": null,
            "left": null,
            "margin": null,
            "max_height": null,
            "max_width": null,
            "min_height": null,
            "min_width": null,
            "object_fit": null,
            "object_position": null,
            "order": null,
            "overflow": null,
            "overflow_x": null,
            "overflow_y": null,
            "padding": null,
            "right": null,
            "top": null,
            "visibility": null,
            "width": null
          }
        },
        "c5bdaf70f62c4c17a6d36bd8a055102c": {
          "model_module": "@jupyter-widgets/controls",
          "model_name": "DescriptionStyleModel",
          "model_module_version": "1.5.0",
          "state": {
            "_model_module": "@jupyter-widgets/controls",
            "_model_module_version": "1.5.0",
            "_model_name": "DescriptionStyleModel",
            "_view_count": null,
            "_view_module": "@jupyter-widgets/base",
            "_view_module_version": "1.2.0",
            "_view_name": "StyleView",
            "description_width": ""
          }
        },
        "07f52ff55b3c490685d75cace78d905f": {
          "model_module": "@jupyter-widgets/controls",
          "model_name": "HBoxModel",
          "model_module_version": "1.5.0",
          "state": {
            "_dom_classes": [],
            "_model_module": "@jupyter-widgets/controls",
            "_model_module_version": "1.5.0",
            "_model_name": "HBoxModel",
            "_view_count": null,
            "_view_module": "@jupyter-widgets/controls",
            "_view_module_version": "1.5.0",
            "_view_name": "HBoxView",
            "box_style": "",
            "children": [
              "IPY_MODEL_aad71c73b4204e178fd13614ebf5a605",
              "IPY_MODEL_55e6915217c74590adfda53841bcf0d7",
              "IPY_MODEL_0ed6f30451c74d82877778b681fe4501"
            ],
            "layout": "IPY_MODEL_cf3ce5baff684e68a78646fc5d6953d6"
          }
        },
        "aad71c73b4204e178fd13614ebf5a605": {
          "model_module": "@jupyter-widgets/controls",
          "model_name": "HTMLModel",
          "model_module_version": "1.5.0",
          "state": {
            "_dom_classes": [],
            "_model_module": "@jupyter-widgets/controls",
            "_model_module_version": "1.5.0",
            "_model_name": "HTMLModel",
            "_view_count": null,
            "_view_module": "@jupyter-widgets/controls",
            "_view_module_version": "1.5.0",
            "_view_name": "HTMLView",
            "description": "",
            "description_tooltip": null,
            "layout": "IPY_MODEL_2288c6879260447685b7c295bd998b02",
            "placeholder": "​",
            "style": "IPY_MODEL_a833f3542d654714a5cc442096127485",
            "value": "Downloading (…)solve/main/vocab.txt: 100%"
          }
        },
        "55e6915217c74590adfda53841bcf0d7": {
          "model_module": "@jupyter-widgets/controls",
          "model_name": "FloatProgressModel",
          "model_module_version": "1.5.0",
          "state": {
            "_dom_classes": [],
            "_model_module": "@jupyter-widgets/controls",
            "_model_module_version": "1.5.0",
            "_model_name": "FloatProgressModel",
            "_view_count": null,
            "_view_module": "@jupyter-widgets/controls",
            "_view_module_version": "1.5.0",
            "_view_name": "ProgressView",
            "bar_style": "success",
            "description": "",
            "description_tooltip": null,
            "layout": "IPY_MODEL_bb9fa35431b84d928a893a2fff894d78",
            "max": 231508,
            "min": 0,
            "orientation": "horizontal",
            "style": "IPY_MODEL_b4410bcd19144187a9bea98307ee9d24",
            "value": 231508
          }
        },
        "0ed6f30451c74d82877778b681fe4501": {
          "model_module": "@jupyter-widgets/controls",
          "model_name": "HTMLModel",
          "model_module_version": "1.5.0",
          "state": {
            "_dom_classes": [],
            "_model_module": "@jupyter-widgets/controls",
            "_model_module_version": "1.5.0",
            "_model_name": "HTMLModel",
            "_view_count": null,
            "_view_module": "@jupyter-widgets/controls",
            "_view_module_version": "1.5.0",
            "_view_name": "HTMLView",
            "description": "",
            "description_tooltip": null,
            "layout": "IPY_MODEL_0b6a93b9487d48eda6c864973fc2da58",
            "placeholder": "​",
            "style": "IPY_MODEL_7b96f4338ff44d959191586d1846e7c0",
            "value": " 232k/232k [00:00&lt;00:00, 420kB/s]"
          }
        },
        "cf3ce5baff684e68a78646fc5d6953d6": {
          "model_module": "@jupyter-widgets/base",
          "model_name": "LayoutModel",
          "model_module_version": "1.2.0",
          "state": {
            "_model_module": "@jupyter-widgets/base",
            "_model_module_version": "1.2.0",
            "_model_name": "LayoutModel",
            "_view_count": null,
            "_view_module": "@jupyter-widgets/base",
            "_view_module_version": "1.2.0",
            "_view_name": "LayoutView",
            "align_content": null,
            "align_items": null,
            "align_self": null,
            "border": null,
            "bottom": null,
            "display": null,
            "flex": null,
            "flex_flow": null,
            "grid_area": null,
            "grid_auto_columns": null,
            "grid_auto_flow": null,
            "grid_auto_rows": null,
            "grid_column": null,
            "grid_gap": null,
            "grid_row": null,
            "grid_template_areas": null,
            "grid_template_columns": null,
            "grid_template_rows": null,
            "height": null,
            "justify_content": null,
            "justify_items": null,
            "left": null,
            "margin": null,
            "max_height": null,
            "max_width": null,
            "min_height": null,
            "min_width": null,
            "object_fit": null,
            "object_position": null,
            "order": null,
            "overflow": null,
            "overflow_x": null,
            "overflow_y": null,
            "padding": null,
            "right": null,
            "top": null,
            "visibility": null,
            "width": null
          }
        },
        "2288c6879260447685b7c295bd998b02": {
          "model_module": "@jupyter-widgets/base",
          "model_name": "LayoutModel",
          "model_module_version": "1.2.0",
          "state": {
            "_model_module": "@jupyter-widgets/base",
            "_model_module_version": "1.2.0",
            "_model_name": "LayoutModel",
            "_view_count": null,
            "_view_module": "@jupyter-widgets/base",
            "_view_module_version": "1.2.0",
            "_view_name": "LayoutView",
            "align_content": null,
            "align_items": null,
            "align_self": null,
            "border": null,
            "bottom": null,
            "display": null,
            "flex": null,
            "flex_flow": null,
            "grid_area": null,
            "grid_auto_columns": null,
            "grid_auto_flow": null,
            "grid_auto_rows": null,
            "grid_column": null,
            "grid_gap": null,
            "grid_row": null,
            "grid_template_areas": null,
            "grid_template_columns": null,
            "grid_template_rows": null,
            "height": null,
            "justify_content": null,
            "justify_items": null,
            "left": null,
            "margin": null,
            "max_height": null,
            "max_width": null,
            "min_height": null,
            "min_width": null,
            "object_fit": null,
            "object_position": null,
            "order": null,
            "overflow": null,
            "overflow_x": null,
            "overflow_y": null,
            "padding": null,
            "right": null,
            "top": null,
            "visibility": null,
            "width": null
          }
        },
        "a833f3542d654714a5cc442096127485": {
          "model_module": "@jupyter-widgets/controls",
          "model_name": "DescriptionStyleModel",
          "model_module_version": "1.5.0",
          "state": {
            "_model_module": "@jupyter-widgets/controls",
            "_model_module_version": "1.5.0",
            "_model_name": "DescriptionStyleModel",
            "_view_count": null,
            "_view_module": "@jupyter-widgets/base",
            "_view_module_version": "1.2.0",
            "_view_name": "StyleView",
            "description_width": ""
          }
        },
        "bb9fa35431b84d928a893a2fff894d78": {
          "model_module": "@jupyter-widgets/base",
          "model_name": "LayoutModel",
          "model_module_version": "1.2.0",
          "state": {
            "_model_module": "@jupyter-widgets/base",
            "_model_module_version": "1.2.0",
            "_model_name": "LayoutModel",
            "_view_count": null,
            "_view_module": "@jupyter-widgets/base",
            "_view_module_version": "1.2.0",
            "_view_name": "LayoutView",
            "align_content": null,
            "align_items": null,
            "align_self": null,
            "border": null,
            "bottom": null,
            "display": null,
            "flex": null,
            "flex_flow": null,
            "grid_area": null,
            "grid_auto_columns": null,
            "grid_auto_flow": null,
            "grid_auto_rows": null,
            "grid_column": null,
            "grid_gap": null,
            "grid_row": null,
            "grid_template_areas": null,
            "grid_template_columns": null,
            "grid_template_rows": null,
            "height": null,
            "justify_content": null,
            "justify_items": null,
            "left": null,
            "margin": null,
            "max_height": null,
            "max_width": null,
            "min_height": null,
            "min_width": null,
            "object_fit": null,
            "object_position": null,
            "order": null,
            "overflow": null,
            "overflow_x": null,
            "overflow_y": null,
            "padding": null,
            "right": null,
            "top": null,
            "visibility": null,
            "width": null
          }
        },
        "b4410bcd19144187a9bea98307ee9d24": {
          "model_module": "@jupyter-widgets/controls",
          "model_name": "ProgressStyleModel",
          "model_module_version": "1.5.0",
          "state": {
            "_model_module": "@jupyter-widgets/controls",
            "_model_module_version": "1.5.0",
            "_model_name": "ProgressStyleModel",
            "_view_count": null,
            "_view_module": "@jupyter-widgets/base",
            "_view_module_version": "1.2.0",
            "_view_name": "StyleView",
            "bar_color": null,
            "description_width": ""
          }
        },
        "0b6a93b9487d48eda6c864973fc2da58": {
          "model_module": "@jupyter-widgets/base",
          "model_name": "LayoutModel",
          "model_module_version": "1.2.0",
          "state": {
            "_model_module": "@jupyter-widgets/base",
            "_model_module_version": "1.2.0",
            "_model_name": "LayoutModel",
            "_view_count": null,
            "_view_module": "@jupyter-widgets/base",
            "_view_module_version": "1.2.0",
            "_view_name": "LayoutView",
            "align_content": null,
            "align_items": null,
            "align_self": null,
            "border": null,
            "bottom": null,
            "display": null,
            "flex": null,
            "flex_flow": null,
            "grid_area": null,
            "grid_auto_columns": null,
            "grid_auto_flow": null,
            "grid_auto_rows": null,
            "grid_column": null,
            "grid_gap": null,
            "grid_row": null,
            "grid_template_areas": null,
            "grid_template_columns": null,
            "grid_template_rows": null,
            "height": null,
            "justify_content": null,
            "justify_items": null,
            "left": null,
            "margin": null,
            "max_height": null,
            "max_width": null,
            "min_height": null,
            "min_width": null,
            "object_fit": null,
            "object_position": null,
            "order": null,
            "overflow": null,
            "overflow_x": null,
            "overflow_y": null,
            "padding": null,
            "right": null,
            "top": null,
            "visibility": null,
            "width": null
          }
        },
        "7b96f4338ff44d959191586d1846e7c0": {
          "model_module": "@jupyter-widgets/controls",
          "model_name": "DescriptionStyleModel",
          "model_module_version": "1.5.0",
          "state": {
            "_model_module": "@jupyter-widgets/controls",
            "_model_module_version": "1.5.0",
            "_model_name": "DescriptionStyleModel",
            "_view_count": null,
            "_view_module": "@jupyter-widgets/base",
            "_view_module_version": "1.2.0",
            "_view_name": "StyleView",
            "description_width": ""
          }
        },
        "3cc62ac3874441c98b4cd281e00a49e6": {
          "model_module": "@jupyter-widgets/controls",
          "model_name": "HBoxModel",
          "model_module_version": "1.5.0",
          "state": {
            "_dom_classes": [],
            "_model_module": "@jupyter-widgets/controls",
            "_model_module_version": "1.5.0",
            "_model_name": "HBoxModel",
            "_view_count": null,
            "_view_module": "@jupyter-widgets/controls",
            "_view_module_version": "1.5.0",
            "_view_name": "HBoxView",
            "box_style": "",
            "children": [
              "IPY_MODEL_c6163f5f98c441188a4f01b542e384a0",
              "IPY_MODEL_89a91e7571c647c09f611086c04667f7",
              "IPY_MODEL_c3843f604f7c4da494e1b22a77ab6a5a"
            ],
            "layout": "IPY_MODEL_3bfae7b63c664806b8b9e3e86a6cdd05"
          }
        },
        "c6163f5f98c441188a4f01b542e384a0": {
          "model_module": "@jupyter-widgets/controls",
          "model_name": "HTMLModel",
          "model_module_version": "1.5.0",
          "state": {
            "_dom_classes": [],
            "_model_module": "@jupyter-widgets/controls",
            "_model_module_version": "1.5.0",
            "_model_name": "HTMLModel",
            "_view_count": null,
            "_view_module": "@jupyter-widgets/controls",
            "_view_module_version": "1.5.0",
            "_view_name": "HTMLView",
            "description": "",
            "description_tooltip": null,
            "layout": "IPY_MODEL_bc3cab7d975e4012bd90073421293766",
            "placeholder": "​",
            "style": "IPY_MODEL_33aeb4c273714a9db23bd5d3f6c39b69",
            "value": "Downloading (…)/main/tokenizer.json: 100%"
          }
        },
        "89a91e7571c647c09f611086c04667f7": {
          "model_module": "@jupyter-widgets/controls",
          "model_name": "FloatProgressModel",
          "model_module_version": "1.5.0",
          "state": {
            "_dom_classes": [],
            "_model_module": "@jupyter-widgets/controls",
            "_model_module_version": "1.5.0",
            "_model_name": "FloatProgressModel",
            "_view_count": null,
            "_view_module": "@jupyter-widgets/controls",
            "_view_module_version": "1.5.0",
            "_view_name": "ProgressView",
            "bar_style": "success",
            "description": "",
            "description_tooltip": null,
            "layout": "IPY_MODEL_6bbeba20f7994b80af1635f800f1fd66",
            "max": 466062,
            "min": 0,
            "orientation": "horizontal",
            "style": "IPY_MODEL_77bb45f9edf1400daab8335ffd2e808c",
            "value": 466062
          }
        },
        "c3843f604f7c4da494e1b22a77ab6a5a": {
          "model_module": "@jupyter-widgets/controls",
          "model_name": "HTMLModel",
          "model_module_version": "1.5.0",
          "state": {
            "_dom_classes": [],
            "_model_module": "@jupyter-widgets/controls",
            "_model_module_version": "1.5.0",
            "_model_name": "HTMLModel",
            "_view_count": null,
            "_view_module": "@jupyter-widgets/controls",
            "_view_module_version": "1.5.0",
            "_view_name": "HTMLView",
            "description": "",
            "description_tooltip": null,
            "layout": "IPY_MODEL_b3456f7f658c47c5a7104781d63de057",
            "placeholder": "​",
            "style": "IPY_MODEL_44486ed0b33d41c0915e31008be80936",
            "value": " 466k/466k [00:00&lt;00:00, 1.77MB/s]"
          }
        },
        "3bfae7b63c664806b8b9e3e86a6cdd05": {
          "model_module": "@jupyter-widgets/base",
          "model_name": "LayoutModel",
          "model_module_version": "1.2.0",
          "state": {
            "_model_module": "@jupyter-widgets/base",
            "_model_module_version": "1.2.0",
            "_model_name": "LayoutModel",
            "_view_count": null,
            "_view_module": "@jupyter-widgets/base",
            "_view_module_version": "1.2.0",
            "_view_name": "LayoutView",
            "align_content": null,
            "align_items": null,
            "align_self": null,
            "border": null,
            "bottom": null,
            "display": null,
            "flex": null,
            "flex_flow": null,
            "grid_area": null,
            "grid_auto_columns": null,
            "grid_auto_flow": null,
            "grid_auto_rows": null,
            "grid_column": null,
            "grid_gap": null,
            "grid_row": null,
            "grid_template_areas": null,
            "grid_template_columns": null,
            "grid_template_rows": null,
            "height": null,
            "justify_content": null,
            "justify_items": null,
            "left": null,
            "margin": null,
            "max_height": null,
            "max_width": null,
            "min_height": null,
            "min_width": null,
            "object_fit": null,
            "object_position": null,
            "order": null,
            "overflow": null,
            "overflow_x": null,
            "overflow_y": null,
            "padding": null,
            "right": null,
            "top": null,
            "visibility": null,
            "width": null
          }
        },
        "bc3cab7d975e4012bd90073421293766": {
          "model_module": "@jupyter-widgets/base",
          "model_name": "LayoutModel",
          "model_module_version": "1.2.0",
          "state": {
            "_model_module": "@jupyter-widgets/base",
            "_model_module_version": "1.2.0",
            "_model_name": "LayoutModel",
            "_view_count": null,
            "_view_module": "@jupyter-widgets/base",
            "_view_module_version": "1.2.0",
            "_view_name": "LayoutView",
            "align_content": null,
            "align_items": null,
            "align_self": null,
            "border": null,
            "bottom": null,
            "display": null,
            "flex": null,
            "flex_flow": null,
            "grid_area": null,
            "grid_auto_columns": null,
            "grid_auto_flow": null,
            "grid_auto_rows": null,
            "grid_column": null,
            "grid_gap": null,
            "grid_row": null,
            "grid_template_areas": null,
            "grid_template_columns": null,
            "grid_template_rows": null,
            "height": null,
            "justify_content": null,
            "justify_items": null,
            "left": null,
            "margin": null,
            "max_height": null,
            "max_width": null,
            "min_height": null,
            "min_width": null,
            "object_fit": null,
            "object_position": null,
            "order": null,
            "overflow": null,
            "overflow_x": null,
            "overflow_y": null,
            "padding": null,
            "right": null,
            "top": null,
            "visibility": null,
            "width": null
          }
        },
        "33aeb4c273714a9db23bd5d3f6c39b69": {
          "model_module": "@jupyter-widgets/controls",
          "model_name": "DescriptionStyleModel",
          "model_module_version": "1.5.0",
          "state": {
            "_model_module": "@jupyter-widgets/controls",
            "_model_module_version": "1.5.0",
            "_model_name": "DescriptionStyleModel",
            "_view_count": null,
            "_view_module": "@jupyter-widgets/base",
            "_view_module_version": "1.2.0",
            "_view_name": "StyleView",
            "description_width": ""
          }
        },
        "6bbeba20f7994b80af1635f800f1fd66": {
          "model_module": "@jupyter-widgets/base",
          "model_name": "LayoutModel",
          "model_module_version": "1.2.0",
          "state": {
            "_model_module": "@jupyter-widgets/base",
            "_model_module_version": "1.2.0",
            "_model_name": "LayoutModel",
            "_view_count": null,
            "_view_module": "@jupyter-widgets/base",
            "_view_module_version": "1.2.0",
            "_view_name": "LayoutView",
            "align_content": null,
            "align_items": null,
            "align_self": null,
            "border": null,
            "bottom": null,
            "display": null,
            "flex": null,
            "flex_flow": null,
            "grid_area": null,
            "grid_auto_columns": null,
            "grid_auto_flow": null,
            "grid_auto_rows": null,
            "grid_column": null,
            "grid_gap": null,
            "grid_row": null,
            "grid_template_areas": null,
            "grid_template_columns": null,
            "grid_template_rows": null,
            "height": null,
            "justify_content": null,
            "justify_items": null,
            "left": null,
            "margin": null,
            "max_height": null,
            "max_width": null,
            "min_height": null,
            "min_width": null,
            "object_fit": null,
            "object_position": null,
            "order": null,
            "overflow": null,
            "overflow_x": null,
            "overflow_y": null,
            "padding": null,
            "right": null,
            "top": null,
            "visibility": null,
            "width": null
          }
        },
        "77bb45f9edf1400daab8335ffd2e808c": {
          "model_module": "@jupyter-widgets/controls",
          "model_name": "ProgressStyleModel",
          "model_module_version": "1.5.0",
          "state": {
            "_model_module": "@jupyter-widgets/controls",
            "_model_module_version": "1.5.0",
            "_model_name": "ProgressStyleModel",
            "_view_count": null,
            "_view_module": "@jupyter-widgets/base",
            "_view_module_version": "1.2.0",
            "_view_name": "StyleView",
            "bar_color": null,
            "description_width": ""
          }
        },
        "b3456f7f658c47c5a7104781d63de057": {
          "model_module": "@jupyter-widgets/base",
          "model_name": "LayoutModel",
          "model_module_version": "1.2.0",
          "state": {
            "_model_module": "@jupyter-widgets/base",
            "_model_module_version": "1.2.0",
            "_model_name": "LayoutModel",
            "_view_count": null,
            "_view_module": "@jupyter-widgets/base",
            "_view_module_version": "1.2.0",
            "_view_name": "LayoutView",
            "align_content": null,
            "align_items": null,
            "align_self": null,
            "border": null,
            "bottom": null,
            "display": null,
            "flex": null,
            "flex_flow": null,
            "grid_area": null,
            "grid_auto_columns": null,
            "grid_auto_flow": null,
            "grid_auto_rows": null,
            "grid_column": null,
            "grid_gap": null,
            "grid_row": null,
            "grid_template_areas": null,
            "grid_template_columns": null,
            "grid_template_rows": null,
            "height": null,
            "justify_content": null,
            "justify_items": null,
            "left": null,
            "margin": null,
            "max_height": null,
            "max_width": null,
            "min_height": null,
            "min_width": null,
            "object_fit": null,
            "object_position": null,
            "order": null,
            "overflow": null,
            "overflow_x": null,
            "overflow_y": null,
            "padding": null,
            "right": null,
            "top": null,
            "visibility": null,
            "width": null
          }
        },
        "44486ed0b33d41c0915e31008be80936": {
          "model_module": "@jupyter-widgets/controls",
          "model_name": "DescriptionStyleModel",
          "model_module_version": "1.5.0",
          "state": {
            "_model_module": "@jupyter-widgets/controls",
            "_model_module_version": "1.5.0",
            "_model_name": "DescriptionStyleModel",
            "_view_count": null,
            "_view_module": "@jupyter-widgets/base",
            "_view_module_version": "1.2.0",
            "_view_name": "StyleView",
            "description_width": ""
          }
        },
        "20130526c92144cebf9ad7cdba468142": {
          "model_module": "@jupyter-widgets/controls",
          "model_name": "HBoxModel",
          "model_module_version": "1.5.0",
          "state": {
            "_dom_classes": [],
            "_model_module": "@jupyter-widgets/controls",
            "_model_module_version": "1.5.0",
            "_model_name": "HBoxModel",
            "_view_count": null,
            "_view_module": "@jupyter-widgets/controls",
            "_view_module_version": "1.5.0",
            "_view_name": "HBoxView",
            "box_style": "",
            "children": [
              "IPY_MODEL_8ca9670c83df47d99b55a3fd15932e73",
              "IPY_MODEL_c1ccfbd0458445ee9a01d3cc1e5d65f3",
              "IPY_MODEL_51b3743d21314a8ab67d04bedc43740b"
            ],
            "layout": "IPY_MODEL_b7c49562fcf74a32a3fa975676e8e2df"
          }
        },
        "8ca9670c83df47d99b55a3fd15932e73": {
          "model_module": "@jupyter-widgets/controls",
          "model_name": "HTMLModel",
          "model_module_version": "1.5.0",
          "state": {
            "_dom_classes": [],
            "_model_module": "@jupyter-widgets/controls",
            "_model_module_version": "1.5.0",
            "_model_name": "HTMLModel",
            "_view_count": null,
            "_view_module": "@jupyter-widgets/controls",
            "_view_module_version": "1.5.0",
            "_view_name": "HTMLView",
            "description": "",
            "description_tooltip": null,
            "layout": "IPY_MODEL_cb0659de4c9e4b718df3ff0f5fe52858",
            "placeholder": "​",
            "style": "IPY_MODEL_2682d894fbd54217981cea296a1a2222",
            "value": "Downloading (…)lve/main/config.json: 100%"
          }
        },
        "c1ccfbd0458445ee9a01d3cc1e5d65f3": {
          "model_module": "@jupyter-widgets/controls",
          "model_name": "FloatProgressModel",
          "model_module_version": "1.5.0",
          "state": {
            "_dom_classes": [],
            "_model_module": "@jupyter-widgets/controls",
            "_model_module_version": "1.5.0",
            "_model_name": "FloatProgressModel",
            "_view_count": null,
            "_view_module": "@jupyter-widgets/controls",
            "_view_module_version": "1.5.0",
            "_view_name": "ProgressView",
            "bar_style": "success",
            "description": "",
            "description_tooltip": null,
            "layout": "IPY_MODEL_99bdb02530d14edbb23f09a791357786",
            "max": 570,
            "min": 0,
            "orientation": "horizontal",
            "style": "IPY_MODEL_8bde739672574a5dbeeb3d19cc4d6936",
            "value": 570
          }
        },
        "51b3743d21314a8ab67d04bedc43740b": {
          "model_module": "@jupyter-widgets/controls",
          "model_name": "HTMLModel",
          "model_module_version": "1.5.0",
          "state": {
            "_dom_classes": [],
            "_model_module": "@jupyter-widgets/controls",
            "_model_module_version": "1.5.0",
            "_model_name": "HTMLModel",
            "_view_count": null,
            "_view_module": "@jupyter-widgets/controls",
            "_view_module_version": "1.5.0",
            "_view_name": "HTMLView",
            "description": "",
            "description_tooltip": null,
            "layout": "IPY_MODEL_a8f8bb20c0ff4bedbc61c64f432c0347",
            "placeholder": "​",
            "style": "IPY_MODEL_bca22a977909454fb14ff18db805e98b",
            "value": " 570/570 [00:00&lt;00:00, 52.6kB/s]"
          }
        },
        "b7c49562fcf74a32a3fa975676e8e2df": {
          "model_module": "@jupyter-widgets/base",
          "model_name": "LayoutModel",
          "model_module_version": "1.2.0",
          "state": {
            "_model_module": "@jupyter-widgets/base",
            "_model_module_version": "1.2.0",
            "_model_name": "LayoutModel",
            "_view_count": null,
            "_view_module": "@jupyter-widgets/base",
            "_view_module_version": "1.2.0",
            "_view_name": "LayoutView",
            "align_content": null,
            "align_items": null,
            "align_self": null,
            "border": null,
            "bottom": null,
            "display": null,
            "flex": null,
            "flex_flow": null,
            "grid_area": null,
            "grid_auto_columns": null,
            "grid_auto_flow": null,
            "grid_auto_rows": null,
            "grid_column": null,
            "grid_gap": null,
            "grid_row": null,
            "grid_template_areas": null,
            "grid_template_columns": null,
            "grid_template_rows": null,
            "height": null,
            "justify_content": null,
            "justify_items": null,
            "left": null,
            "margin": null,
            "max_height": null,
            "max_width": null,
            "min_height": null,
            "min_width": null,
            "object_fit": null,
            "object_position": null,
            "order": null,
            "overflow": null,
            "overflow_x": null,
            "overflow_y": null,
            "padding": null,
            "right": null,
            "top": null,
            "visibility": null,
            "width": null
          }
        },
        "cb0659de4c9e4b718df3ff0f5fe52858": {
          "model_module": "@jupyter-widgets/base",
          "model_name": "LayoutModel",
          "model_module_version": "1.2.0",
          "state": {
            "_model_module": "@jupyter-widgets/base",
            "_model_module_version": "1.2.0",
            "_model_name": "LayoutModel",
            "_view_count": null,
            "_view_module": "@jupyter-widgets/base",
            "_view_module_version": "1.2.0",
            "_view_name": "LayoutView",
            "align_content": null,
            "align_items": null,
            "align_self": null,
            "border": null,
            "bottom": null,
            "display": null,
            "flex": null,
            "flex_flow": null,
            "grid_area": null,
            "grid_auto_columns": null,
            "grid_auto_flow": null,
            "grid_auto_rows": null,
            "grid_column": null,
            "grid_gap": null,
            "grid_row": null,
            "grid_template_areas": null,
            "grid_template_columns": null,
            "grid_template_rows": null,
            "height": null,
            "justify_content": null,
            "justify_items": null,
            "left": null,
            "margin": null,
            "max_height": null,
            "max_width": null,
            "min_height": null,
            "min_width": null,
            "object_fit": null,
            "object_position": null,
            "order": null,
            "overflow": null,
            "overflow_x": null,
            "overflow_y": null,
            "padding": null,
            "right": null,
            "top": null,
            "visibility": null,
            "width": null
          }
        },
        "2682d894fbd54217981cea296a1a2222": {
          "model_module": "@jupyter-widgets/controls",
          "model_name": "DescriptionStyleModel",
          "model_module_version": "1.5.0",
          "state": {
            "_model_module": "@jupyter-widgets/controls",
            "_model_module_version": "1.5.0",
            "_model_name": "DescriptionStyleModel",
            "_view_count": null,
            "_view_module": "@jupyter-widgets/base",
            "_view_module_version": "1.2.0",
            "_view_name": "StyleView",
            "description_width": ""
          }
        },
        "99bdb02530d14edbb23f09a791357786": {
          "model_module": "@jupyter-widgets/base",
          "model_name": "LayoutModel",
          "model_module_version": "1.2.0",
          "state": {
            "_model_module": "@jupyter-widgets/base",
            "_model_module_version": "1.2.0",
            "_model_name": "LayoutModel",
            "_view_count": null,
            "_view_module": "@jupyter-widgets/base",
            "_view_module_version": "1.2.0",
            "_view_name": "LayoutView",
            "align_content": null,
            "align_items": null,
            "align_self": null,
            "border": null,
            "bottom": null,
            "display": null,
            "flex": null,
            "flex_flow": null,
            "grid_area": null,
            "grid_auto_columns": null,
            "grid_auto_flow": null,
            "grid_auto_rows": null,
            "grid_column": null,
            "grid_gap": null,
            "grid_row": null,
            "grid_template_areas": null,
            "grid_template_columns": null,
            "grid_template_rows": null,
            "height": null,
            "justify_content": null,
            "justify_items": null,
            "left": null,
            "margin": null,
            "max_height": null,
            "max_width": null,
            "min_height": null,
            "min_width": null,
            "object_fit": null,
            "object_position": null,
            "order": null,
            "overflow": null,
            "overflow_x": null,
            "overflow_y": null,
            "padding": null,
            "right": null,
            "top": null,
            "visibility": null,
            "width": null
          }
        },
        "8bde739672574a5dbeeb3d19cc4d6936": {
          "model_module": "@jupyter-widgets/controls",
          "model_name": "ProgressStyleModel",
          "model_module_version": "1.5.0",
          "state": {
            "_model_module": "@jupyter-widgets/controls",
            "_model_module_version": "1.5.0",
            "_model_name": "ProgressStyleModel",
            "_view_count": null,
            "_view_module": "@jupyter-widgets/base",
            "_view_module_version": "1.2.0",
            "_view_name": "StyleView",
            "bar_color": null,
            "description_width": ""
          }
        },
        "a8f8bb20c0ff4bedbc61c64f432c0347": {
          "model_module": "@jupyter-widgets/base",
          "model_name": "LayoutModel",
          "model_module_version": "1.2.0",
          "state": {
            "_model_module": "@jupyter-widgets/base",
            "_model_module_version": "1.2.0",
            "_model_name": "LayoutModel",
            "_view_count": null,
            "_view_module": "@jupyter-widgets/base",
            "_view_module_version": "1.2.0",
            "_view_name": "LayoutView",
            "align_content": null,
            "align_items": null,
            "align_self": null,
            "border": null,
            "bottom": null,
            "display": null,
            "flex": null,
            "flex_flow": null,
            "grid_area": null,
            "grid_auto_columns": null,
            "grid_auto_flow": null,
            "grid_auto_rows": null,
            "grid_column": null,
            "grid_gap": null,
            "grid_row": null,
            "grid_template_areas": null,
            "grid_template_columns": null,
            "grid_template_rows": null,
            "height": null,
            "justify_content": null,
            "justify_items": null,
            "left": null,
            "margin": null,
            "max_height": null,
            "max_width": null,
            "min_height": null,
            "min_width": null,
            "object_fit": null,
            "object_position": null,
            "order": null,
            "overflow": null,
            "overflow_x": null,
            "overflow_y": null,
            "padding": null,
            "right": null,
            "top": null,
            "visibility": null,
            "width": null
          }
        },
        "bca22a977909454fb14ff18db805e98b": {
          "model_module": "@jupyter-widgets/controls",
          "model_name": "DescriptionStyleModel",
          "model_module_version": "1.5.0",
          "state": {
            "_model_module": "@jupyter-widgets/controls",
            "_model_module_version": "1.5.0",
            "_model_name": "DescriptionStyleModel",
            "_view_count": null,
            "_view_module": "@jupyter-widgets/base",
            "_view_module_version": "1.2.0",
            "_view_name": "StyleView",
            "description_width": ""
          }
        },
        "3cdd42e5567449d487e2265694b9b925": {
          "model_module": "@jupyter-widgets/controls",
          "model_name": "HBoxModel",
          "model_module_version": "1.5.0",
          "state": {
            "_dom_classes": [],
            "_model_module": "@jupyter-widgets/controls",
            "_model_module_version": "1.5.0",
            "_model_name": "HBoxModel",
            "_view_count": null,
            "_view_module": "@jupyter-widgets/controls",
            "_view_module_version": "1.5.0",
            "_view_name": "HBoxView",
            "box_style": "",
            "children": [
              "IPY_MODEL_d9c4e3df50ae4d61aa6ff1a8a2b6df4a",
              "IPY_MODEL_5c8c54c7e88e476fb292d5795b872b25",
              "IPY_MODEL_6badbc7bc18e4de1bc1d098fac9836fb"
            ],
            "layout": "IPY_MODEL_8ed73f7795114ffdaf8edb83dad27b7f"
          }
        },
        "d9c4e3df50ae4d61aa6ff1a8a2b6df4a": {
          "model_module": "@jupyter-widgets/controls",
          "model_name": "HTMLModel",
          "model_module_version": "1.5.0",
          "state": {
            "_dom_classes": [],
            "_model_module": "@jupyter-widgets/controls",
            "_model_module_version": "1.5.0",
            "_model_name": "HTMLModel",
            "_view_count": null,
            "_view_module": "@jupyter-widgets/controls",
            "_view_module_version": "1.5.0",
            "_view_name": "HTMLView",
            "description": "",
            "description_tooltip": null,
            "layout": "IPY_MODEL_9673ead8ef60424cbda1a07008622b02",
            "placeholder": "​",
            "style": "IPY_MODEL_8d6d2ba3fa6e45e797da5471d77bc7b5",
            "value": "Downloading model.safetensors: 100%"
          }
        },
        "5c8c54c7e88e476fb292d5795b872b25": {
          "model_module": "@jupyter-widgets/controls",
          "model_name": "FloatProgressModel",
          "model_module_version": "1.5.0",
          "state": {
            "_dom_classes": [],
            "_model_module": "@jupyter-widgets/controls",
            "_model_module_version": "1.5.0",
            "_model_name": "FloatProgressModel",
            "_view_count": null,
            "_view_module": "@jupyter-widgets/controls",
            "_view_module_version": "1.5.0",
            "_view_name": "ProgressView",
            "bar_style": "success",
            "description": "",
            "description_tooltip": null,
            "layout": "IPY_MODEL_b762fe39715d41f99ac20da3c64acc1a",
            "max": 440449768,
            "min": 0,
            "orientation": "horizontal",
            "style": "IPY_MODEL_a0d9d13f2ef543f0aa94f5458db03552",
            "value": 440449768
          }
        },
        "6badbc7bc18e4de1bc1d098fac9836fb": {
          "model_module": "@jupyter-widgets/controls",
          "model_name": "HTMLModel",
          "model_module_version": "1.5.0",
          "state": {
            "_dom_classes": [],
            "_model_module": "@jupyter-widgets/controls",
            "_model_module_version": "1.5.0",
            "_model_name": "HTMLModel",
            "_view_count": null,
            "_view_module": "@jupyter-widgets/controls",
            "_view_module_version": "1.5.0",
            "_view_name": "HTMLView",
            "description": "",
            "description_tooltip": null,
            "layout": "IPY_MODEL_129b6350f99a4a6ea8628f10d3d7af5c",
            "placeholder": "​",
            "style": "IPY_MODEL_b1d7ef08e70049b09d581fa9cc53b418",
            "value": " 440M/440M [00:01&lt;00:00, 477MB/s]"
          }
        },
        "8ed73f7795114ffdaf8edb83dad27b7f": {
          "model_module": "@jupyter-widgets/base",
          "model_name": "LayoutModel",
          "model_module_version": "1.2.0",
          "state": {
            "_model_module": "@jupyter-widgets/base",
            "_model_module_version": "1.2.0",
            "_model_name": "LayoutModel",
            "_view_count": null,
            "_view_module": "@jupyter-widgets/base",
            "_view_module_version": "1.2.0",
            "_view_name": "LayoutView",
            "align_content": null,
            "align_items": null,
            "align_self": null,
            "border": null,
            "bottom": null,
            "display": null,
            "flex": null,
            "flex_flow": null,
            "grid_area": null,
            "grid_auto_columns": null,
            "grid_auto_flow": null,
            "grid_auto_rows": null,
            "grid_column": null,
            "grid_gap": null,
            "grid_row": null,
            "grid_template_areas": null,
            "grid_template_columns": null,
            "grid_template_rows": null,
            "height": null,
            "justify_content": null,
            "justify_items": null,
            "left": null,
            "margin": null,
            "max_height": null,
            "max_width": null,
            "min_height": null,
            "min_width": null,
            "object_fit": null,
            "object_position": null,
            "order": null,
            "overflow": null,
            "overflow_x": null,
            "overflow_y": null,
            "padding": null,
            "right": null,
            "top": null,
            "visibility": null,
            "width": null
          }
        },
        "9673ead8ef60424cbda1a07008622b02": {
          "model_module": "@jupyter-widgets/base",
          "model_name": "LayoutModel",
          "model_module_version": "1.2.0",
          "state": {
            "_model_module": "@jupyter-widgets/base",
            "_model_module_version": "1.2.0",
            "_model_name": "LayoutModel",
            "_view_count": null,
            "_view_module": "@jupyter-widgets/base",
            "_view_module_version": "1.2.0",
            "_view_name": "LayoutView",
            "align_content": null,
            "align_items": null,
            "align_self": null,
            "border": null,
            "bottom": null,
            "display": null,
            "flex": null,
            "flex_flow": null,
            "grid_area": null,
            "grid_auto_columns": null,
            "grid_auto_flow": null,
            "grid_auto_rows": null,
            "grid_column": null,
            "grid_gap": null,
            "grid_row": null,
            "grid_template_areas": null,
            "grid_template_columns": null,
            "grid_template_rows": null,
            "height": null,
            "justify_content": null,
            "justify_items": null,
            "left": null,
            "margin": null,
            "max_height": null,
            "max_width": null,
            "min_height": null,
            "min_width": null,
            "object_fit": null,
            "object_position": null,
            "order": null,
            "overflow": null,
            "overflow_x": null,
            "overflow_y": null,
            "padding": null,
            "right": null,
            "top": null,
            "visibility": null,
            "width": null
          }
        },
        "8d6d2ba3fa6e45e797da5471d77bc7b5": {
          "model_module": "@jupyter-widgets/controls",
          "model_name": "DescriptionStyleModel",
          "model_module_version": "1.5.0",
          "state": {
            "_model_module": "@jupyter-widgets/controls",
            "_model_module_version": "1.5.0",
            "_model_name": "DescriptionStyleModel",
            "_view_count": null,
            "_view_module": "@jupyter-widgets/base",
            "_view_module_version": "1.2.0",
            "_view_name": "StyleView",
            "description_width": ""
          }
        },
        "b762fe39715d41f99ac20da3c64acc1a": {
          "model_module": "@jupyter-widgets/base",
          "model_name": "LayoutModel",
          "model_module_version": "1.2.0",
          "state": {
            "_model_module": "@jupyter-widgets/base",
            "_model_module_version": "1.2.0",
            "_model_name": "LayoutModel",
            "_view_count": null,
            "_view_module": "@jupyter-widgets/base",
            "_view_module_version": "1.2.0",
            "_view_name": "LayoutView",
            "align_content": null,
            "align_items": null,
            "align_self": null,
            "border": null,
            "bottom": null,
            "display": null,
            "flex": null,
            "flex_flow": null,
            "grid_area": null,
            "grid_auto_columns": null,
            "grid_auto_flow": null,
            "grid_auto_rows": null,
            "grid_column": null,
            "grid_gap": null,
            "grid_row": null,
            "grid_template_areas": null,
            "grid_template_columns": null,
            "grid_template_rows": null,
            "height": null,
            "justify_content": null,
            "justify_items": null,
            "left": null,
            "margin": null,
            "max_height": null,
            "max_width": null,
            "min_height": null,
            "min_width": null,
            "object_fit": null,
            "object_position": null,
            "order": null,
            "overflow": null,
            "overflow_x": null,
            "overflow_y": null,
            "padding": null,
            "right": null,
            "top": null,
            "visibility": null,
            "width": null
          }
        },
        "a0d9d13f2ef543f0aa94f5458db03552": {
          "model_module": "@jupyter-widgets/controls",
          "model_name": "ProgressStyleModel",
          "model_module_version": "1.5.0",
          "state": {
            "_model_module": "@jupyter-widgets/controls",
            "_model_module_version": "1.5.0",
            "_model_name": "ProgressStyleModel",
            "_view_count": null,
            "_view_module": "@jupyter-widgets/base",
            "_view_module_version": "1.2.0",
            "_view_name": "StyleView",
            "bar_color": null,
            "description_width": ""
          }
        },
        "129b6350f99a4a6ea8628f10d3d7af5c": {
          "model_module": "@jupyter-widgets/base",
          "model_name": "LayoutModel",
          "model_module_version": "1.2.0",
          "state": {
            "_model_module": "@jupyter-widgets/base",
            "_model_module_version": "1.2.0",
            "_model_name": "LayoutModel",
            "_view_count": null,
            "_view_module": "@jupyter-widgets/base",
            "_view_module_version": "1.2.0",
            "_view_name": "LayoutView",
            "align_content": null,
            "align_items": null,
            "align_self": null,
            "border": null,
            "bottom": null,
            "display": null,
            "flex": null,
            "flex_flow": null,
            "grid_area": null,
            "grid_auto_columns": null,
            "grid_auto_flow": null,
            "grid_auto_rows": null,
            "grid_column": null,
            "grid_gap": null,
            "grid_row": null,
            "grid_template_areas": null,
            "grid_template_columns": null,
            "grid_template_rows": null,
            "height": null,
            "justify_content": null,
            "justify_items": null,
            "left": null,
            "margin": null,
            "max_height": null,
            "max_width": null,
            "min_height": null,
            "min_width": null,
            "object_fit": null,
            "object_position": null,
            "order": null,
            "overflow": null,
            "overflow_x": null,
            "overflow_y": null,
            "padding": null,
            "right": null,
            "top": null,
            "visibility": null,
            "width": null
          }
        },
        "b1d7ef08e70049b09d581fa9cc53b418": {
          "model_module": "@jupyter-widgets/controls",
          "model_name": "DescriptionStyleModel",
          "model_module_version": "1.5.0",
          "state": {
            "_model_module": "@jupyter-widgets/controls",
            "_model_module_version": "1.5.0",
            "_model_name": "DescriptionStyleModel",
            "_view_count": null,
            "_view_module": "@jupyter-widgets/base",
            "_view_module_version": "1.2.0",
            "_view_name": "StyleView",
            "description_width": ""
          }
        }
      }
    }
  },
  "cells": [
    {
      "cell_type": "markdown",
      "metadata": {
        "id": "view-in-github",
        "colab_type": "text"
      },
      "source": [
        "<a href=\"https://colab.research.google.com/github/gitHubAndyLee2020/LLM_Reward_Model_Research/blob/main/Reward_Model_Module_v1.ipynb\" target=\"_parent\"><img src=\"https://colab.research.google.com/assets/colab-badge.svg\" alt=\"Open In Colab\"/></a>"
      ]
    },
    {
      "cell_type": "markdown",
      "source": [
        "### Prepare Data"
      ],
      "metadata": {
        "id": "uMr4oGl79iiD"
      }
    },
    {
      "cell_type": "code",
      "execution_count": 1,
      "metadata": {
        "colab": {
          "base_uri": "https://localhost:8080/",
          "height": 73
        },
        "id": "qkscrW1Y9YZg",
        "outputId": "218fa877-2cbf-422a-ef82-aacdad0d3560"
      },
      "outputs": [
        {
          "output_type": "display_data",
          "data": {
            "text/plain": [
              "<IPython.core.display.HTML object>"
            ],
            "text/html": [
              "\n",
              "     <input type=\"file\" id=\"files-4eceaafd-de33-4409-88b6-0f453d4339c9\" name=\"files[]\" multiple disabled\n",
              "        style=\"border:none\" />\n",
              "     <output id=\"result-4eceaafd-de33-4409-88b6-0f453d4339c9\">\n",
              "      Upload widget is only available when the cell has been executed in the\n",
              "      current browser session. Please rerun this cell to enable.\n",
              "      </output>\n",
              "      <script>// Copyright 2017 Google LLC\n",
              "//\n",
              "// Licensed under the Apache License, Version 2.0 (the \"License\");\n",
              "// you may not use this file except in compliance with the License.\n",
              "// You may obtain a copy of the License at\n",
              "//\n",
              "//      http://www.apache.org/licenses/LICENSE-2.0\n",
              "//\n",
              "// Unless required by applicable law or agreed to in writing, software\n",
              "// distributed under the License is distributed on an \"AS IS\" BASIS,\n",
              "// WITHOUT WARRANTIES OR CONDITIONS OF ANY KIND, either express or implied.\n",
              "// See the License for the specific language governing permissions and\n",
              "// limitations under the License.\n",
              "\n",
              "/**\n",
              " * @fileoverview Helpers for google.colab Python module.\n",
              " */\n",
              "(function(scope) {\n",
              "function span(text, styleAttributes = {}) {\n",
              "  const element = document.createElement('span');\n",
              "  element.textContent = text;\n",
              "  for (const key of Object.keys(styleAttributes)) {\n",
              "    element.style[key] = styleAttributes[key];\n",
              "  }\n",
              "  return element;\n",
              "}\n",
              "\n",
              "// Max number of bytes which will be uploaded at a time.\n",
              "const MAX_PAYLOAD_SIZE = 100 * 1024;\n",
              "\n",
              "function _uploadFiles(inputId, outputId) {\n",
              "  const steps = uploadFilesStep(inputId, outputId);\n",
              "  const outputElement = document.getElementById(outputId);\n",
              "  // Cache steps on the outputElement to make it available for the next call\n",
              "  // to uploadFilesContinue from Python.\n",
              "  outputElement.steps = steps;\n",
              "\n",
              "  return _uploadFilesContinue(outputId);\n",
              "}\n",
              "\n",
              "// This is roughly an async generator (not supported in the browser yet),\n",
              "// where there are multiple asynchronous steps and the Python side is going\n",
              "// to poll for completion of each step.\n",
              "// This uses a Promise to block the python side on completion of each step,\n",
              "// then passes the result of the previous step as the input to the next step.\n",
              "function _uploadFilesContinue(outputId) {\n",
              "  const outputElement = document.getElementById(outputId);\n",
              "  const steps = outputElement.steps;\n",
              "\n",
              "  const next = steps.next(outputElement.lastPromiseValue);\n",
              "  return Promise.resolve(next.value.promise).then((value) => {\n",
              "    // Cache the last promise value to make it available to the next\n",
              "    // step of the generator.\n",
              "    outputElement.lastPromiseValue = value;\n",
              "    return next.value.response;\n",
              "  });\n",
              "}\n",
              "\n",
              "/**\n",
              " * Generator function which is called between each async step of the upload\n",
              " * process.\n",
              " * @param {string} inputId Element ID of the input file picker element.\n",
              " * @param {string} outputId Element ID of the output display.\n",
              " * @return {!Iterable<!Object>} Iterable of next steps.\n",
              " */\n",
              "function* uploadFilesStep(inputId, outputId) {\n",
              "  const inputElement = document.getElementById(inputId);\n",
              "  inputElement.disabled = false;\n",
              "\n",
              "  const outputElement = document.getElementById(outputId);\n",
              "  outputElement.innerHTML = '';\n",
              "\n",
              "  const pickedPromise = new Promise((resolve) => {\n",
              "    inputElement.addEventListener('change', (e) => {\n",
              "      resolve(e.target.files);\n",
              "    });\n",
              "  });\n",
              "\n",
              "  const cancel = document.createElement('button');\n",
              "  inputElement.parentElement.appendChild(cancel);\n",
              "  cancel.textContent = 'Cancel upload';\n",
              "  const cancelPromise = new Promise((resolve) => {\n",
              "    cancel.onclick = () => {\n",
              "      resolve(null);\n",
              "    };\n",
              "  });\n",
              "\n",
              "  // Wait for the user to pick the files.\n",
              "  const files = yield {\n",
              "    promise: Promise.race([pickedPromise, cancelPromise]),\n",
              "    response: {\n",
              "      action: 'starting',\n",
              "    }\n",
              "  };\n",
              "\n",
              "  cancel.remove();\n",
              "\n",
              "  // Disable the input element since further picks are not allowed.\n",
              "  inputElement.disabled = true;\n",
              "\n",
              "  if (!files) {\n",
              "    return {\n",
              "      response: {\n",
              "        action: 'complete',\n",
              "      }\n",
              "    };\n",
              "  }\n",
              "\n",
              "  for (const file of files) {\n",
              "    const li = document.createElement('li');\n",
              "    li.append(span(file.name, {fontWeight: 'bold'}));\n",
              "    li.append(span(\n",
              "        `(${file.type || 'n/a'}) - ${file.size} bytes, ` +\n",
              "        `last modified: ${\n",
              "            file.lastModifiedDate ? file.lastModifiedDate.toLocaleDateString() :\n",
              "                                    'n/a'} - `));\n",
              "    const percent = span('0% done');\n",
              "    li.appendChild(percent);\n",
              "\n",
              "    outputElement.appendChild(li);\n",
              "\n",
              "    const fileDataPromise = new Promise((resolve) => {\n",
              "      const reader = new FileReader();\n",
              "      reader.onload = (e) => {\n",
              "        resolve(e.target.result);\n",
              "      };\n",
              "      reader.readAsArrayBuffer(file);\n",
              "    });\n",
              "    // Wait for the data to be ready.\n",
              "    let fileData = yield {\n",
              "      promise: fileDataPromise,\n",
              "      response: {\n",
              "        action: 'continue',\n",
              "      }\n",
              "    };\n",
              "\n",
              "    // Use a chunked sending to avoid message size limits. See b/62115660.\n",
              "    let position = 0;\n",
              "    do {\n",
              "      const length = Math.min(fileData.byteLength - position, MAX_PAYLOAD_SIZE);\n",
              "      const chunk = new Uint8Array(fileData, position, length);\n",
              "      position += length;\n",
              "\n",
              "      const base64 = btoa(String.fromCharCode.apply(null, chunk));\n",
              "      yield {\n",
              "        response: {\n",
              "          action: 'append',\n",
              "          file: file.name,\n",
              "          data: base64,\n",
              "        },\n",
              "      };\n",
              "\n",
              "      let percentDone = fileData.byteLength === 0 ?\n",
              "          100 :\n",
              "          Math.round((position / fileData.byteLength) * 100);\n",
              "      percent.textContent = `${percentDone}% done`;\n",
              "\n",
              "    } while (position < fileData.byteLength);\n",
              "  }\n",
              "\n",
              "  // All done.\n",
              "  yield {\n",
              "    response: {\n",
              "      action: 'complete',\n",
              "    }\n",
              "  };\n",
              "}\n",
              "\n",
              "scope.google = scope.google || {};\n",
              "scope.google.colab = scope.google.colab || {};\n",
              "scope.google.colab._files = {\n",
              "  _uploadFiles,\n",
              "  _uploadFilesContinue,\n",
              "};\n",
              "})(self);\n",
              "</script> "
            ]
          },
          "metadata": {}
        },
        {
          "output_type": "stream",
          "name": "stdout",
          "text": [
            "Saving df_train_first100_ranked.csv to df_train_first100_ranked.csv\n"
          ]
        }
      ],
      "source": [
        "from google.colab import files\n",
        "uploaded = files.upload()"
      ]
    },
    {
      "cell_type": "code",
      "source": [
        "import pandas as pd\n",
        "\n",
        "# Load the CSV file into a DataFrame\n",
        "df_train_first100_ranked = pd.read_csv('df_train_first100_ranked.csv')\n",
        "# Replace NaN values with an empty string\n",
        "df_train_first100_ranked = df_train_first100_ranked.fillna('')"
      ],
      "metadata": {
        "id": "k90k3Zc29wtv"
      },
      "execution_count": 2,
      "outputs": []
    },
    {
      "cell_type": "code",
      "source": [
        "df_train_first100_ranked.head()"
      ],
      "metadata": {
        "colab": {
          "base_uri": "https://localhost:8080/",
          "height": 608
        },
        "id": "KxFKKOEe-JG9",
        "outputId": "b4825786-3947-48c5-c293-0b1e18ea6fcf"
      },
      "execution_count": 3,
      "outputs": [
        {
          "output_type": "execute_result",
          "data": {
            "text/plain": [
              "             id                                      system_prompt  \\\n",
              "0    niv.242684                                                      \n",
              "1   flan.564327  You are an AI assistant. You will be given a t...   \n",
              "2  flan.1875913  You are a helpful assistant, who always provid...   \n",
              "3     t0.408370  You are an AI assistant. You will be given a t...   \n",
              "4     cot.86217  You are an AI assistant that helps people find...   \n",
              "\n",
              "                                            question  \\\n",
              "0  You will be given a definition of a task first...   \n",
              "1  Generate an approximately fifteen-word sentenc...   \n",
              "2  What happens next in this paragraph?\\n\\nShe th...   \n",
              "3  Please answer the following question: I want t...   \n",
              "4  James runs a TV show and there are 5 main char...   \n",
              "\n",
              "                                            response  \\\n",
              "0  [\\n  [\"AFC Ajax (amateurs)\", \"has ground\", \"Sp...   \n",
              "1  Midsummer House is a moderately priced Chinese...   \n",
              "2  C. She then dips the needle in ink and using t...   \n",
              "3  Based on the passage, discuss the primary moti...   \n",
              "4  James pays the minor characters $15,000 each e...   \n",
              "\n",
              "                             instruct_model_response  \\\n",
              "0  Sure, I can help you with that task. Can you p...   \n",
              "1  Midsummer House is a restaurant that serves Ch...   \n",
              "2  It is not clear what happens next in the parag...   \n",
              "3  Sure, here's a question that could test the ab...   \n",
              "4  James pays the minor characters $15,000 each e...   \n",
              "\n",
              "                             openorca_model_response  response_rank  \\\n",
              "0  [SOL]\\nThe output for the given sentence shoul...              1   \n",
              "1  At the moderately-priced Midsummer House near ...              2   \n",
              "2  C. So after she finishes pouring the liquids i...              2   \n",
              "3  Based on the passage given, you might develop ...              1   \n",
              "4  James pays the major characters three times as...              1   \n",
              "\n",
              "   instruct_model_response_rank  openorca_model_response_rank  \n",
              "0                             3                             2  \n",
              "1                             3                             1  \n",
              "2                             3                             1  \n",
              "3                             2                             3  \n",
              "4                             3                             2  "
            ],
            "text/html": [
              "\n",
              "  <div id=\"df-03e9ddb0-0ab5-4ff3-bd3b-9edad9dee2b9\" class=\"colab-df-container\">\n",
              "    <div>\n",
              "<style scoped>\n",
              "    .dataframe tbody tr th:only-of-type {\n",
              "        vertical-align: middle;\n",
              "    }\n",
              "\n",
              "    .dataframe tbody tr th {\n",
              "        vertical-align: top;\n",
              "    }\n",
              "\n",
              "    .dataframe thead th {\n",
              "        text-align: right;\n",
              "    }\n",
              "</style>\n",
              "<table border=\"1\" class=\"dataframe\">\n",
              "  <thead>\n",
              "    <tr style=\"text-align: right;\">\n",
              "      <th></th>\n",
              "      <th>id</th>\n",
              "      <th>system_prompt</th>\n",
              "      <th>question</th>\n",
              "      <th>response</th>\n",
              "      <th>instruct_model_response</th>\n",
              "      <th>openorca_model_response</th>\n",
              "      <th>response_rank</th>\n",
              "      <th>instruct_model_response_rank</th>\n",
              "      <th>openorca_model_response_rank</th>\n",
              "    </tr>\n",
              "  </thead>\n",
              "  <tbody>\n",
              "    <tr>\n",
              "      <th>0</th>\n",
              "      <td>niv.242684</td>\n",
              "      <td></td>\n",
              "      <td>You will be given a definition of a task first...</td>\n",
              "      <td>[\\n  [\"AFC Ajax (amateurs)\", \"has ground\", \"Sp...</td>\n",
              "      <td>Sure, I can help you with that task. Can you p...</td>\n",
              "      <td>[SOL]\\nThe output for the given sentence shoul...</td>\n",
              "      <td>1</td>\n",
              "      <td>3</td>\n",
              "      <td>2</td>\n",
              "    </tr>\n",
              "    <tr>\n",
              "      <th>1</th>\n",
              "      <td>flan.564327</td>\n",
              "      <td>You are an AI assistant. You will be given a t...</td>\n",
              "      <td>Generate an approximately fifteen-word sentenc...</td>\n",
              "      <td>Midsummer House is a moderately priced Chinese...</td>\n",
              "      <td>Midsummer House is a restaurant that serves Ch...</td>\n",
              "      <td>At the moderately-priced Midsummer House near ...</td>\n",
              "      <td>2</td>\n",
              "      <td>3</td>\n",
              "      <td>1</td>\n",
              "    </tr>\n",
              "    <tr>\n",
              "      <th>2</th>\n",
              "      <td>flan.1875913</td>\n",
              "      <td>You are a helpful assistant, who always provid...</td>\n",
              "      <td>What happens next in this paragraph?\\n\\nShe th...</td>\n",
              "      <td>C. She then dips the needle in ink and using t...</td>\n",
              "      <td>It is not clear what happens next in the parag...</td>\n",
              "      <td>C. So after she finishes pouring the liquids i...</td>\n",
              "      <td>2</td>\n",
              "      <td>3</td>\n",
              "      <td>1</td>\n",
              "    </tr>\n",
              "    <tr>\n",
              "      <th>3</th>\n",
              "      <td>t0.408370</td>\n",
              "      <td>You are an AI assistant. You will be given a t...</td>\n",
              "      <td>Please answer the following question: I want t...</td>\n",
              "      <td>Based on the passage, discuss the primary moti...</td>\n",
              "      <td>Sure, here's a question that could test the ab...</td>\n",
              "      <td>Based on the passage given, you might develop ...</td>\n",
              "      <td>1</td>\n",
              "      <td>2</td>\n",
              "      <td>3</td>\n",
              "    </tr>\n",
              "    <tr>\n",
              "      <th>4</th>\n",
              "      <td>cot.86217</td>\n",
              "      <td>You are an AI assistant that helps people find...</td>\n",
              "      <td>James runs a TV show and there are 5 main char...</td>\n",
              "      <td>James pays the minor characters $15,000 each e...</td>\n",
              "      <td>James pays the minor characters $15,000 each e...</td>\n",
              "      <td>James pays the major characters three times as...</td>\n",
              "      <td>1</td>\n",
              "      <td>3</td>\n",
              "      <td>2</td>\n",
              "    </tr>\n",
              "  </tbody>\n",
              "</table>\n",
              "</div>\n",
              "    <div class=\"colab-df-buttons\">\n",
              "\n",
              "  <div class=\"colab-df-container\">\n",
              "    <button class=\"colab-df-convert\" onclick=\"convertToInteractive('df-03e9ddb0-0ab5-4ff3-bd3b-9edad9dee2b9')\"\n",
              "            title=\"Convert this dataframe to an interactive table.\"\n",
              "            style=\"display:none;\">\n",
              "\n",
              "  <svg xmlns=\"http://www.w3.org/2000/svg\" height=\"24px\" viewBox=\"0 -960 960 960\">\n",
              "    <path d=\"M120-120v-720h720v720H120Zm60-500h600v-160H180v160Zm220 220h160v-160H400v160Zm0 220h160v-160H400v160ZM180-400h160v-160H180v160Zm440 0h160v-160H620v160ZM180-180h160v-160H180v160Zm440 0h160v-160H620v160Z\"/>\n",
              "  </svg>\n",
              "    </button>\n",
              "\n",
              "  <style>\n",
              "    .colab-df-container {\n",
              "      display:flex;\n",
              "      gap: 12px;\n",
              "    }\n",
              "\n",
              "    .colab-df-convert {\n",
              "      background-color: #E8F0FE;\n",
              "      border: none;\n",
              "      border-radius: 50%;\n",
              "      cursor: pointer;\n",
              "      display: none;\n",
              "      fill: #1967D2;\n",
              "      height: 32px;\n",
              "      padding: 0 0 0 0;\n",
              "      width: 32px;\n",
              "    }\n",
              "\n",
              "    .colab-df-convert:hover {\n",
              "      background-color: #E2EBFA;\n",
              "      box-shadow: 0px 1px 2px rgba(60, 64, 67, 0.3), 0px 1px 3px 1px rgba(60, 64, 67, 0.15);\n",
              "      fill: #174EA6;\n",
              "    }\n",
              "\n",
              "    .colab-df-buttons div {\n",
              "      margin-bottom: 4px;\n",
              "    }\n",
              "\n",
              "    [theme=dark] .colab-df-convert {\n",
              "      background-color: #3B4455;\n",
              "      fill: #D2E3FC;\n",
              "    }\n",
              "\n",
              "    [theme=dark] .colab-df-convert:hover {\n",
              "      background-color: #434B5C;\n",
              "      box-shadow: 0px 1px 3px 1px rgba(0, 0, 0, 0.15);\n",
              "      filter: drop-shadow(0px 1px 2px rgba(0, 0, 0, 0.3));\n",
              "      fill: #FFFFFF;\n",
              "    }\n",
              "  </style>\n",
              "\n",
              "    <script>\n",
              "      const buttonEl =\n",
              "        document.querySelector('#df-03e9ddb0-0ab5-4ff3-bd3b-9edad9dee2b9 button.colab-df-convert');\n",
              "      buttonEl.style.display =\n",
              "        google.colab.kernel.accessAllowed ? 'block' : 'none';\n",
              "\n",
              "      async function convertToInteractive(key) {\n",
              "        const element = document.querySelector('#df-03e9ddb0-0ab5-4ff3-bd3b-9edad9dee2b9');\n",
              "        const dataTable =\n",
              "          await google.colab.kernel.invokeFunction('convertToInteractive',\n",
              "                                                    [key], {});\n",
              "        if (!dataTable) return;\n",
              "\n",
              "        const docLinkHtml = 'Like what you see? Visit the ' +\n",
              "          '<a target=\"_blank\" href=https://colab.research.google.com/notebooks/data_table.ipynb>data table notebook</a>'\n",
              "          + ' to learn more about interactive tables.';\n",
              "        element.innerHTML = '';\n",
              "        dataTable['output_type'] = 'display_data';\n",
              "        await google.colab.output.renderOutput(dataTable, element);\n",
              "        const docLink = document.createElement('div');\n",
              "        docLink.innerHTML = docLinkHtml;\n",
              "        element.appendChild(docLink);\n",
              "      }\n",
              "    </script>\n",
              "  </div>\n",
              "\n",
              "\n",
              "<div id=\"df-91a6bffb-52b2-499f-93b7-e540297649a1\">\n",
              "  <button class=\"colab-df-quickchart\" onclick=\"quickchart('df-91a6bffb-52b2-499f-93b7-e540297649a1')\"\n",
              "            title=\"Suggest charts.\"\n",
              "            style=\"display:none;\">\n",
              "\n",
              "<svg xmlns=\"http://www.w3.org/2000/svg\" height=\"24px\"viewBox=\"0 0 24 24\"\n",
              "     width=\"24px\">\n",
              "    <g>\n",
              "        <path d=\"M19 3H5c-1.1 0-2 .9-2 2v14c0 1.1.9 2 2 2h14c1.1 0 2-.9 2-2V5c0-1.1-.9-2-2-2zM9 17H7v-7h2v7zm4 0h-2V7h2v10zm4 0h-2v-4h2v4z\"/>\n",
              "    </g>\n",
              "</svg>\n",
              "  </button>\n",
              "\n",
              "<style>\n",
              "  .colab-df-quickchart {\n",
              "      --bg-color: #E8F0FE;\n",
              "      --fill-color: #1967D2;\n",
              "      --hover-bg-color: #E2EBFA;\n",
              "      --hover-fill-color: #174EA6;\n",
              "      --disabled-fill-color: #AAA;\n",
              "      --disabled-bg-color: #DDD;\n",
              "  }\n",
              "\n",
              "  [theme=dark] .colab-df-quickchart {\n",
              "      --bg-color: #3B4455;\n",
              "      --fill-color: #D2E3FC;\n",
              "      --hover-bg-color: #434B5C;\n",
              "      --hover-fill-color: #FFFFFF;\n",
              "      --disabled-bg-color: #3B4455;\n",
              "      --disabled-fill-color: #666;\n",
              "  }\n",
              "\n",
              "  .colab-df-quickchart {\n",
              "    background-color: var(--bg-color);\n",
              "    border: none;\n",
              "    border-radius: 50%;\n",
              "    cursor: pointer;\n",
              "    display: none;\n",
              "    fill: var(--fill-color);\n",
              "    height: 32px;\n",
              "    padding: 0;\n",
              "    width: 32px;\n",
              "  }\n",
              "\n",
              "  .colab-df-quickchart:hover {\n",
              "    background-color: var(--hover-bg-color);\n",
              "    box-shadow: 0 1px 2px rgba(60, 64, 67, 0.3), 0 1px 3px 1px rgba(60, 64, 67, 0.15);\n",
              "    fill: var(--button-hover-fill-color);\n",
              "  }\n",
              "\n",
              "  .colab-df-quickchart-complete:disabled,\n",
              "  .colab-df-quickchart-complete:disabled:hover {\n",
              "    background-color: var(--disabled-bg-color);\n",
              "    fill: var(--disabled-fill-color);\n",
              "    box-shadow: none;\n",
              "  }\n",
              "\n",
              "  .colab-df-spinner {\n",
              "    border: 2px solid var(--fill-color);\n",
              "    border-color: transparent;\n",
              "    border-bottom-color: var(--fill-color);\n",
              "    animation:\n",
              "      spin 1s steps(1) infinite;\n",
              "  }\n",
              "\n",
              "  @keyframes spin {\n",
              "    0% {\n",
              "      border-color: transparent;\n",
              "      border-bottom-color: var(--fill-color);\n",
              "      border-left-color: var(--fill-color);\n",
              "    }\n",
              "    20% {\n",
              "      border-color: transparent;\n",
              "      border-left-color: var(--fill-color);\n",
              "      border-top-color: var(--fill-color);\n",
              "    }\n",
              "    30% {\n",
              "      border-color: transparent;\n",
              "      border-left-color: var(--fill-color);\n",
              "      border-top-color: var(--fill-color);\n",
              "      border-right-color: var(--fill-color);\n",
              "    }\n",
              "    40% {\n",
              "      border-color: transparent;\n",
              "      border-right-color: var(--fill-color);\n",
              "      border-top-color: var(--fill-color);\n",
              "    }\n",
              "    60% {\n",
              "      border-color: transparent;\n",
              "      border-right-color: var(--fill-color);\n",
              "    }\n",
              "    80% {\n",
              "      border-color: transparent;\n",
              "      border-right-color: var(--fill-color);\n",
              "      border-bottom-color: var(--fill-color);\n",
              "    }\n",
              "    90% {\n",
              "      border-color: transparent;\n",
              "      border-bottom-color: var(--fill-color);\n",
              "    }\n",
              "  }\n",
              "</style>\n",
              "\n",
              "  <script>\n",
              "    async function quickchart(key) {\n",
              "      const quickchartButtonEl =\n",
              "        document.querySelector('#' + key + ' button');\n",
              "      quickchartButtonEl.disabled = true;  // To prevent multiple clicks.\n",
              "      quickchartButtonEl.classList.add('colab-df-spinner');\n",
              "      try {\n",
              "        const charts = await google.colab.kernel.invokeFunction(\n",
              "            'suggestCharts', [key], {});\n",
              "      } catch (error) {\n",
              "        console.error('Error during call to suggestCharts:', error);\n",
              "      }\n",
              "      quickchartButtonEl.classList.remove('colab-df-spinner');\n",
              "      quickchartButtonEl.classList.add('colab-df-quickchart-complete');\n",
              "    }\n",
              "    (() => {\n",
              "      let quickchartButtonEl =\n",
              "        document.querySelector('#df-91a6bffb-52b2-499f-93b7-e540297649a1 button');\n",
              "      quickchartButtonEl.style.display =\n",
              "        google.colab.kernel.accessAllowed ? 'block' : 'none';\n",
              "    })();\n",
              "  </script>\n",
              "</div>\n",
              "\n",
              "    </div>\n",
              "  </div>\n"
            ]
          },
          "metadata": {},
          "execution_count": 3
        }
      ]
    },
    {
      "cell_type": "code",
      "source": [
        "!pip install transformers"
      ],
      "metadata": {
        "colab": {
          "base_uri": "https://localhost:8080/"
        },
        "id": "Ino8Yh01-fN7",
        "outputId": "f2cf4a8e-a3a3-4ab4-dbc0-9dab6f209e50"
      },
      "execution_count": 4,
      "outputs": [
        {
          "output_type": "stream",
          "name": "stdout",
          "text": [
            "Collecting transformers\n",
            "  Downloading transformers-4.34.0-py3-none-any.whl (7.7 MB)\n",
            "\u001b[2K     \u001b[90m━━━━━━━━━━━━━━━━━━━━━━━━━━━━━━━━━━━━━━━━\u001b[0m \u001b[32m7.7/7.7 MB\u001b[0m \u001b[31m58.9 MB/s\u001b[0m eta \u001b[36m0:00:00\u001b[0m\n",
            "\u001b[?25hRequirement already satisfied: filelock in /usr/local/lib/python3.10/dist-packages (from transformers) (3.12.4)\n",
            "Collecting huggingface-hub<1.0,>=0.16.4 (from transformers)\n",
            "  Downloading huggingface_hub-0.17.3-py3-none-any.whl (295 kB)\n",
            "\u001b[2K     \u001b[90m━━━━━━━━━━━━━━━━━━━━━━━━━━━━━━━━━━━━━━\u001b[0m \u001b[32m295.0/295.0 kB\u001b[0m \u001b[31m36.0 MB/s\u001b[0m eta \u001b[36m0:00:00\u001b[0m\n",
            "\u001b[?25hRequirement already satisfied: numpy>=1.17 in /usr/local/lib/python3.10/dist-packages (from transformers) (1.23.5)\n",
            "Requirement already satisfied: packaging>=20.0 in /usr/local/lib/python3.10/dist-packages (from transformers) (23.2)\n",
            "Requirement already satisfied: pyyaml>=5.1 in /usr/local/lib/python3.10/dist-packages (from transformers) (6.0.1)\n",
            "Requirement already satisfied: regex!=2019.12.17 in /usr/local/lib/python3.10/dist-packages (from transformers) (2023.6.3)\n",
            "Requirement already satisfied: requests in /usr/local/lib/python3.10/dist-packages (from transformers) (2.31.0)\n",
            "Collecting tokenizers<0.15,>=0.14 (from transformers)\n",
            "  Downloading tokenizers-0.14.1-cp310-cp310-manylinux_2_17_x86_64.manylinux2014_x86_64.whl (3.8 MB)\n",
            "\u001b[2K     \u001b[90m━━━━━━━━━━━━━━━━━━━━━━━━━━━━━━━━━━━━━━━━\u001b[0m \u001b[32m3.8/3.8 MB\u001b[0m \u001b[31m106.2 MB/s\u001b[0m eta \u001b[36m0:00:00\u001b[0m\n",
            "\u001b[?25hCollecting safetensors>=0.3.1 (from transformers)\n",
            "  Downloading safetensors-0.4.0-cp310-cp310-manylinux_2_17_x86_64.manylinux2014_x86_64.whl (1.3 MB)\n",
            "\u001b[2K     \u001b[90m━━━━━━━━━━━━━━━━━━━━━━━━━━━━━━━━━━━━━━━━\u001b[0m \u001b[32m1.3/1.3 MB\u001b[0m \u001b[31m88.0 MB/s\u001b[0m eta \u001b[36m0:00:00\u001b[0m\n",
            "\u001b[?25hRequirement already satisfied: tqdm>=4.27 in /usr/local/lib/python3.10/dist-packages (from transformers) (4.66.1)\n",
            "Requirement already satisfied: fsspec in /usr/local/lib/python3.10/dist-packages (from huggingface-hub<1.0,>=0.16.4->transformers) (2023.6.0)\n",
            "Requirement already satisfied: typing-extensions>=3.7.4.3 in /usr/local/lib/python3.10/dist-packages (from huggingface-hub<1.0,>=0.16.4->transformers) (4.5.0)\n",
            "Requirement already satisfied: charset-normalizer<4,>=2 in /usr/local/lib/python3.10/dist-packages (from requests->transformers) (3.3.0)\n",
            "Requirement already satisfied: idna<4,>=2.5 in /usr/local/lib/python3.10/dist-packages (from requests->transformers) (3.4)\n",
            "Requirement already satisfied: urllib3<3,>=1.21.1 in /usr/local/lib/python3.10/dist-packages (from requests->transformers) (2.0.6)\n",
            "Requirement already satisfied: certifi>=2017.4.17 in /usr/local/lib/python3.10/dist-packages (from requests->transformers) (2023.7.22)\n",
            "Installing collected packages: safetensors, huggingface-hub, tokenizers, transformers\n",
            "Successfully installed huggingface-hub-0.17.3 safetensors-0.4.0 tokenizers-0.14.1 transformers-4.34.0\n"
          ]
        }
      ]
    },
    {
      "cell_type": "code",
      "source": [
        "from transformers import BertTokenizer, TFBertModel\n",
        "import tensorflow as tf\n",
        "\n",
        "# Load the tokenizer and bert_model\n",
        "tokenizer = BertTokenizer.from_pretrained(\"bert-base-uncased\")\n",
        "bert_model = TFBertModel.from_pretrained(\"bert-base-uncased\")"
      ],
      "metadata": {
        "colab": {
          "base_uri": "https://localhost:8080/",
          "height": 284,
          "referenced_widgets": [
            "2488005441d1441191edeb5e80ac9e41",
            "6fd2503920224db0985889ed1fedcd6c",
            "e37c9739b87e434d8a996cd68770a70a",
            "6395597fb777452984415aa35a6c67b3",
            "3cf536ff222c4b24a334aac1ab56c6df",
            "e409bdcb33b64c57b9ec9cb969c6226e",
            "238416daa2ca4d6c89d9baa13f7697b0",
            "3a0f9f47756044eda8b643bbc847b7b4",
            "4c2937f2bfdb49f788f3edfd1563afce",
            "ca9562626fc64944acca021d26d1888d",
            "c5bdaf70f62c4c17a6d36bd8a055102c",
            "07f52ff55b3c490685d75cace78d905f",
            "aad71c73b4204e178fd13614ebf5a605",
            "55e6915217c74590adfda53841bcf0d7",
            "0ed6f30451c74d82877778b681fe4501",
            "cf3ce5baff684e68a78646fc5d6953d6",
            "2288c6879260447685b7c295bd998b02",
            "a833f3542d654714a5cc442096127485",
            "bb9fa35431b84d928a893a2fff894d78",
            "b4410bcd19144187a9bea98307ee9d24",
            "0b6a93b9487d48eda6c864973fc2da58",
            "7b96f4338ff44d959191586d1846e7c0",
            "3cc62ac3874441c98b4cd281e00a49e6",
            "c6163f5f98c441188a4f01b542e384a0",
            "89a91e7571c647c09f611086c04667f7",
            "c3843f604f7c4da494e1b22a77ab6a5a",
            "3bfae7b63c664806b8b9e3e86a6cdd05",
            "bc3cab7d975e4012bd90073421293766",
            "33aeb4c273714a9db23bd5d3f6c39b69",
            "6bbeba20f7994b80af1635f800f1fd66",
            "77bb45f9edf1400daab8335ffd2e808c",
            "b3456f7f658c47c5a7104781d63de057",
            "44486ed0b33d41c0915e31008be80936",
            "20130526c92144cebf9ad7cdba468142",
            "8ca9670c83df47d99b55a3fd15932e73",
            "c1ccfbd0458445ee9a01d3cc1e5d65f3",
            "51b3743d21314a8ab67d04bedc43740b",
            "b7c49562fcf74a32a3fa975676e8e2df",
            "cb0659de4c9e4b718df3ff0f5fe52858",
            "2682d894fbd54217981cea296a1a2222",
            "99bdb02530d14edbb23f09a791357786",
            "8bde739672574a5dbeeb3d19cc4d6936",
            "a8f8bb20c0ff4bedbc61c64f432c0347",
            "bca22a977909454fb14ff18db805e98b",
            "3cdd42e5567449d487e2265694b9b925",
            "d9c4e3df50ae4d61aa6ff1a8a2b6df4a",
            "5c8c54c7e88e476fb292d5795b872b25",
            "6badbc7bc18e4de1bc1d098fac9836fb",
            "8ed73f7795114ffdaf8edb83dad27b7f",
            "9673ead8ef60424cbda1a07008622b02",
            "8d6d2ba3fa6e45e797da5471d77bc7b5",
            "b762fe39715d41f99ac20da3c64acc1a",
            "a0d9d13f2ef543f0aa94f5458db03552",
            "129b6350f99a4a6ea8628f10d3d7af5c",
            "b1d7ef08e70049b09d581fa9cc53b418"
          ]
        },
        "id": "Y0rmwymT_AMF",
        "outputId": "539e3f92-2caa-4f6f-8640-e169fecd7705"
      },
      "execution_count": 5,
      "outputs": [
        {
          "output_type": "display_data",
          "data": {
            "text/plain": [
              "Downloading (…)okenizer_config.json:   0%|          | 0.00/28.0 [00:00<?, ?B/s]"
            ],
            "application/vnd.jupyter.widget-view+json": {
              "version_major": 2,
              "version_minor": 0,
              "model_id": "2488005441d1441191edeb5e80ac9e41"
            }
          },
          "metadata": {}
        },
        {
          "output_type": "display_data",
          "data": {
            "text/plain": [
              "Downloading (…)solve/main/vocab.txt:   0%|          | 0.00/232k [00:00<?, ?B/s]"
            ],
            "application/vnd.jupyter.widget-view+json": {
              "version_major": 2,
              "version_minor": 0,
              "model_id": "07f52ff55b3c490685d75cace78d905f"
            }
          },
          "metadata": {}
        },
        {
          "output_type": "display_data",
          "data": {
            "text/plain": [
              "Downloading (…)/main/tokenizer.json:   0%|          | 0.00/466k [00:00<?, ?B/s]"
            ],
            "application/vnd.jupyter.widget-view+json": {
              "version_major": 2,
              "version_minor": 0,
              "model_id": "3cc62ac3874441c98b4cd281e00a49e6"
            }
          },
          "metadata": {}
        },
        {
          "output_type": "display_data",
          "data": {
            "text/plain": [
              "Downloading (…)lve/main/config.json:   0%|          | 0.00/570 [00:00<?, ?B/s]"
            ],
            "application/vnd.jupyter.widget-view+json": {
              "version_major": 2,
              "version_minor": 0,
              "model_id": "20130526c92144cebf9ad7cdba468142"
            }
          },
          "metadata": {}
        },
        {
          "output_type": "display_data",
          "data": {
            "text/plain": [
              "Downloading model.safetensors:   0%|          | 0.00/440M [00:00<?, ?B/s]"
            ],
            "application/vnd.jupyter.widget-view+json": {
              "version_major": 2,
              "version_minor": 0,
              "model_id": "3cdd42e5567449d487e2265694b9b925"
            }
          },
          "metadata": {}
        },
        {
          "output_type": "stream",
          "name": "stderr",
          "text": [
            "Some weights of the PyTorch model were not used when initializing the TF 2.0 model TFBertModel: ['cls.predictions.transform.dense.weight', 'cls.predictions.bias', 'cls.predictions.transform.dense.bias', 'cls.seq_relationship.weight', 'cls.predictions.transform.LayerNorm.bias', 'cls.seq_relationship.bias', 'cls.predictions.transform.LayerNorm.weight']\n",
            "- This IS expected if you are initializing TFBertModel from a PyTorch model trained on another task or with another architecture (e.g. initializing a TFBertForSequenceClassification model from a BertForPreTraining model).\n",
            "- This IS NOT expected if you are initializing TFBertModel from a PyTorch model that you expect to be exactly identical (e.g. initializing a TFBertForSequenceClassification model from a BertForSequenceClassification model).\n",
            "All the weights of TFBertModel were initialized from the PyTorch model.\n",
            "If your task is similar to the task the model of the checkpoint was trained on, you can already use TFBertModel for predictions without further training.\n"
          ]
        }
      ]
    },
    {
      "cell_type": "code",
      "source": [
        "import numpy as np\n",
        "\n",
        "def get_token_counts(df, columns):\n",
        "    # Tokenize the values in the columns and get the count of tokens for each string\n",
        "    token_counts = df[columns].applymap(\n",
        "        lambda x: len(tokenizer.tokenize(str(x)))\n",
        "    )\n",
        "\n",
        "    # Convert the DataFrame to a numpy array and then flatten it\n",
        "    token_counts_array = token_counts.values.flatten()\n",
        "\n",
        "    return token_counts_array"
      ],
      "metadata": {
        "id": "G1IxtlyPG3W7"
      },
      "execution_count": 6,
      "outputs": []
    },
    {
      "cell_type": "code",
      "source": [
        "system_prompt_token_counts = get_token_counts(df_train_first100_ranked, ['system_prompt'])\n",
        "question_token_counts = get_token_counts(df_train_first100_ranked, ['question'])\n",
        "response_all_token_counts = get_token_counts(df_train_first100_ranked, ['response', 'instruct_model_response', 'openorca_model_response'])"
      ],
      "metadata": {
        "id": "SFEZ8Th3HJ5d"
      },
      "execution_count": 7,
      "outputs": []
    },
    {
      "cell_type": "code",
      "source": [
        "print(\"system prompt max length:\", system_prompt_token_counts.max())\n",
        "print(\"question max length:\", question_token_counts.max())\n",
        "print(\"response max length:\", response_all_token_counts.max())"
      ],
      "metadata": {
        "colab": {
          "base_uri": "https://localhost:8080/"
        },
        "id": "WJr8bcgcEwYE",
        "outputId": "f0f02148-4f75-44ff-d191-2350fd1f4944"
      },
      "execution_count": 8,
      "outputs": [
        {
          "output_type": "stream",
          "name": "stdout",
          "text": [
            "system prompt max length: 79\n",
            "question max length: 1023\n",
            "response max length: 753\n"
          ]
        }
      ]
    },
    {
      "cell_type": "code",
      "source": [
        "import numpy as np\n",
        "import matplotlib.pyplot as plt\n",
        "\n",
        "def graph_distribution(data, bin_size, title):\n",
        "  bins = np.arange(data.min(), data.max() + bin_size + 1, bin_size)\n",
        "\n",
        "  # Find the 95% percentile\n",
        "  percentile_95 = np.percentile(data, 95)\n",
        "\n",
        "  # Plotting the histogram\n",
        "  plt.hist(data, bins=bins, edgecolor='black', align='left')\n",
        "  plt.title(title)\n",
        "  plt.xlabel('Value Range')\n",
        "  plt.ylabel('Frequency')\n",
        "  plt.xticks(bins)\n",
        "  plt.grid(axis='y')\n",
        "\n",
        "  # Draw a vertical red line at the 95% percentile\n",
        "  plt.axvline(percentile_95, color='red', linestyle='dashed', linewidth=1)\n",
        "  plt.text(percentile_95+1, plt.gca().get_ylim()[1]-5, '95th Percentile', color = 'red')\n",
        "\n",
        "  # Display the histogram\n",
        "  plt.show()\n",
        "\n",
        "  print(\"95% Percentile at\", percentile_95)"
      ],
      "metadata": {
        "id": "rbToIu4wHRWD"
      },
      "execution_count": 9,
      "outputs": []
    },
    {
      "cell_type": "code",
      "source": [
        "graph_distribution(system_prompt_token_counts, 10, \"System Prompt Token Counts\")"
      ],
      "metadata": {
        "colab": {
          "base_uri": "https://localhost:8080/",
          "height": 489
        },
        "id": "eSnwkJI6I4px",
        "outputId": "dda361d6-e628-40d6-b7e9-fa9740f70085"
      },
      "execution_count": 10,
      "outputs": [
        {
          "output_type": "display_data",
          "data": {
            "text/plain": [
              "<Figure size 640x480 with 1 Axes>"
            ],
            "image/png": "[encoded data removed]"
          },
          "metadata": {}
        },
        {
          "output_type": "stream",
          "name": "stdout",
          "text": [
            "95% Percentile at 44.0\n"
          ]
        }
      ]
    },
    {
      "cell_type": "code",
      "source": [
        "graph_distribution(question_token_counts, 50, \"Question Token Counts\")"
      ],
      "metadata": {
        "colab": {
          "base_uri": "https://localhost:8080/",
          "height": 489
        },
        "id": "6AkaAi6BJszg",
        "outputId": "e78a139f-8262-4750-dd08-4dfc4b3328a5"
      },
      "execution_count": 11,
      "outputs": [
        {
          "output_type": "display_data",
          "data": {
            "text/plain": [
              "<Figure size 640x480 with 1 Axes>"
            ],
            "image/png": "[encoded data removed]"
          },
          "metadata": {}
        },
        {
          "output_type": "stream",
          "name": "stdout",
          "text": [
            "95% Percentile at 716.55\n"
          ]
        }
      ]
    },
    {
      "cell_type": "code",
      "source": [
        "graph_distribution(response_all_token_counts, 50, \"Question Token Counts\")"
      ],
      "metadata": {
        "colab": {
          "base_uri": "https://localhost:8080/",
          "height": 489
        },
        "id": "gXlQN8NmKB3Q",
        "outputId": "ba1a965b-5da6-473c-c92b-0397fe1970d8"
      },
      "execution_count": 12,
      "outputs": [
        {
          "output_type": "display_data",
          "data": {
            "text/plain": [
              "<Figure size 640x480 with 1 Axes>"
            ],
            "image/png": "[encoded data removed]"
          },
          "metadata": {}
        },
        {
          "output_type": "stream",
          "name": "stdout",
          "text": [
            "95% Percentile at 462.5500000000001\n"
          ]
        }
      ]
    },
    {
      "cell_type": "code",
      "source": [
        "def get_embeddings(sentences, max_length, batch_size=32):\n",
        "    all_embeddings = []\n",
        "\n",
        "    for i in range(0, len(sentences), batch_size):\n",
        "        batch_sentences = sentences[i:i+batch_size]\n",
        "\n",
        "        # Tokenize the batch of sentences\n",
        "        tokens = tokenizer(batch_sentences, return_tensors=\"tf\", padding='max_length', truncation=True, max_length=max_length)\n",
        "\n",
        "        # Get embeddings using the tokens directly\n",
        "        outputs = bert_model(**tokens)\n",
        "        embeddings = outputs.last_hidden_state\n",
        "\n",
        "        # Pad the embeddings tensor to match the max_length\n",
        "        padding_size = max_length - embeddings.shape[1]\n",
        "        if padding_size > 0:\n",
        "            padding = tf.zeros([embeddings.shape[0], padding_size, embeddings.shape[2]])\n",
        "            embeddings = tf.concat([embeddings, padding], axis=1)\n",
        "\n",
        "        all_embeddings.append(embeddings)\n",
        "\n",
        "    return tf.concat(all_embeddings, axis=0)"
      ],
      "metadata": {
        "id": "9qzDQcvqCwwB"
      },
      "execution_count": 13,
      "outputs": []
    },
    {
      "cell_type": "code",
      "source": [
        "system_prompt_embeddings = get_embeddings(list(df_train_first100_ranked['system_prompt']), 64)\n",
        "question_embeddings = get_embeddings(list(df_train_first100_ranked['question']), 512)\n",
        "response_embeddings = get_embeddings(list(df_train_first100_ranked['response']), 512)\n",
        "instruct_model_response_embeddings = get_embeddings(list(df_train_first100_ranked['instruct_model_response']), 512)\n",
        "openorca_model_response_embeddings = get_embeddings(list(df_train_first100_ranked['openorca_model_response']), 512)"
      ],
      "metadata": {
        "id": "1wwnIdqSEHwg"
      },
      "execution_count": 14,
      "outputs": []
    },
    {
      "cell_type": "code",
      "source": [
        "system_prompt_embeddings.shape, question_embeddings.shape, response_embeddings.shape, instruct_model_response_embeddings.shape, openorca_model_response_embeddings.shape"
      ],
      "metadata": {
        "colab": {
          "base_uri": "https://localhost:8080/"
        },
        "id": "f2qWZn6nGAA8",
        "outputId": "92ee0f7a-3a7a-41d7-8b13-3abf1bc60578"
      },
      "execution_count": 15,
      "outputs": [
        {
          "output_type": "execute_result",
          "data": {
            "text/plain": [
              "(TensorShape([100, 64, 768]),\n",
              " TensorShape([100, 512, 768]),\n",
              " TensorShape([100, 512, 768]),\n",
              " TensorShape([100, 512, 768]),\n",
              " TensorShape([100, 512, 768]))"
            ]
          },
          "metadata": {},
          "execution_count": 15
        }
      ]
    },
    {
      "cell_type": "code",
      "source": [
        "# Concatenate the embeddings along the sequence length dimension (axis=1)\n",
        "concatenated_embeddings = tf.concat([system_prompt_embeddings,\n",
        "                                     question_embeddings,\n",
        "                                     response_embeddings,\n",
        "                                     instruct_model_response_embeddings,\n",
        "                                     openorca_model_response_embeddings], axis=1)\n",
        "\n",
        "print(concatenated_embeddings.shape)"
      ],
      "metadata": {
        "colab": {
          "base_uri": "https://localhost:8080/"
        },
        "id": "8x6lOqzkRqv7",
        "outputId": "68142891-1ebe-4d51-d340-d5ac4be99f71"
      },
      "execution_count": 16,
      "outputs": [
        {
          "output_type": "stream",
          "name": "stdout",
          "text": [
            "(100, 2112, 768)\n"
          ]
        }
      ]
    },
    {
      "cell_type": "code",
      "source": [
        "X_train = concatenated_embeddings"
      ],
      "metadata": {
        "id": "D3_gG2_2VzFW"
      },
      "execution_count": 17,
      "outputs": []
    },
    {
      "cell_type": "code",
      "source": [
        "import numpy as np\n",
        "\n",
        "# Create a new column 'tuple_rank' that combines the rankings as a tuple\n",
        "df_train_first100_ranked['tuple_rank'] = list(zip(df_train_first100_ranked['response_rank'],\n",
        "                                                 df_train_first100_ranked['instruct_model_response_rank'],\n",
        "                                                 df_train_first100_ranked['openorca_model_response_rank']))\n",
        "\n",
        "# Create a mapping from ranking tuple to one-hot encoded label\n",
        "rank_map = {\n",
        "    (1, 2, 3): [1, 0, 0, 0, 0, 0],\n",
        "    (1, 3, 2): [0, 1, 0, 0, 0, 0],\n",
        "    (2, 1, 3): [0, 0, 1, 0, 0, 0],\n",
        "    (2, 3, 1): [0, 0, 0, 1, 0, 0],\n",
        "    (3, 1, 2): [0, 0, 0, 0, 1, 0],\n",
        "    (3, 2, 1): [0, 0, 0, 0, 0, 1]\n",
        "}\n",
        "\n",
        "# Convert 'tuple_rank' to one-hot encoded labels and assign to y_train\n",
        "y_train = np.array(df_train_first100_ranked['tuple_rank'].map(rank_map).tolist())"
      ],
      "metadata": {
        "id": "W7gnTaJFVwY6"
      },
      "execution_count": 18,
      "outputs": []
    },
    {
      "cell_type": "code",
      "source": [
        "X_train.shape, y_train.shape"
      ],
      "metadata": {
        "colab": {
          "base_uri": "https://localhost:8080/"
        },
        "id": "kee3WjV_V-0j",
        "outputId": "ce16067a-67dd-4657-cbde-1c8463c004d0"
      },
      "execution_count": 19,
      "outputs": [
        {
          "output_type": "execute_result",
          "data": {
            "text/plain": [
              "(TensorShape([100, 2112, 768]), (100, 6))"
            ]
          },
          "metadata": {},
          "execution_count": 19
        }
      ]
    },
    {
      "cell_type": "markdown",
      "source": [
        "### One-Hot Encoding\n",
        "\n",
        "- A, B, C -> (1, 2, 3) -> [1, 0, 0, 0, 0, 0]\n",
        "- A, C, B -> (1, 3, 2) -> [0, 1, 0, 0, 0, 0]\n",
        "- B, A, C -> (2, 1, 3) -> [0, 0, 1, 0, 0, 0]\n",
        "- B, C, A -> (2, 3, 1) -> [0, 0, 0, 1, 0, 0]\n",
        "- C, A, B -> (3, 1, 2) -> [0, 0, 0, 0, 1, 0]\n",
        "- C, B, A -> (3, 2, 1) -> [0, 0, 0, 0, 0, 1]"
      ],
      "metadata": {
        "id": "qcGS_EoyVnLQ"
      }
    },
    {
      "cell_type": "markdown",
      "source": [
        "### List Reward Model"
      ],
      "metadata": {
        "id": "eg4km2yOTb4D"
      }
    },
    {
      "cell_type": "code",
      "source": [
        "import tensorflow as tf\n",
        "from tensorflow.keras import layers\n",
        "\n",
        "# Define the model\n",
        "model = tf.keras.Sequential([\n",
        "    layers.Flatten(input_shape=(2112, 768)),\n",
        "    layers.Dense(512, activation='relu'),\n",
        "    layers.Dropout(0.5),\n",
        "    layers.Dense(256, activation='relu'),\n",
        "    layers.Dropout(0.5),\n",
        "    layers.Dense(6, activation='softmax')  # 6 units for all permutations of A, B, C\n",
        "])\n",
        "\n",
        "model.compile(optimizer='adam',\n",
        "              loss='categorical_crossentropy',\n",
        "              metrics=['accuracy'])\n",
        "\n",
        "model.summary()"
      ],
      "metadata": {
        "colab": {
          "base_uri": "https://localhost:8080/"
        },
        "id": "NK4OFhWBTeJx",
        "outputId": "9136773b-fc3f-47da-8468-80b53d565e57"
      },
      "execution_count": 20,
      "outputs": [
        {
          "output_type": "stream",
          "name": "stdout",
          "text": [
            "Model: \"sequential\"\n",
            "_________________________________________________________________\n",
            " Layer (type)                Output Shape              Param #   \n",
            "=================================================================\n",
            " flatten (Flatten)           (None, 1622016)           0         \n",
            "                                                                 \n",
            " dense (Dense)               (None, 512)               830472704 \n",
            "                                                                 \n",
            " dropout_37 (Dropout)        (None, 512)               0         \n",
            "                                                                 \n",
            " dense_1 (Dense)             (None, 256)               131328    \n",
            "                                                                 \n",
            " dropout_38 (Dropout)        (None, 256)               0         \n",
            "                                                                 \n",
            " dense_2 (Dense)             (None, 6)                 1542      \n",
            "                                                                 \n",
            "=================================================================\n",
            "Total params: 830605574 (3.09 GB)\n",
            "Trainable params: 830605574 (3.09 GB)\n",
            "Non-trainable params: 0 (0.00 Byte)\n",
            "_________________________________________________________________\n"
          ]
        }
      ]
    },
    {
      "cell_type": "code",
      "source": [
        "# Train the model\n",
        "history = model.fit(X_train, y_train, epochs=10, batch_size=32, validation_split=0.2)"
      ],
      "metadata": {
        "colab": {
          "base_uri": "https://localhost:8080/"
        },
        "id": "8BILW4-lT-3u",
        "outputId": "7eb2910e-8991-411a-b661-7a53a46d2151"
      },
      "execution_count": 21,
      "outputs": [
        {
          "output_type": "stream",
          "name": "stdout",
          "text": [
            "Epoch 1/10\n",
            "3/3 [==============================] - 4s 228ms/step - loss: 102.2699 - accuracy: 0.3000 - val_loss: 109.2691 - val_accuracy: 0.4500\n",
            "Epoch 2/10\n",
            "3/3 [==============================] - 0s 109ms/step - loss: 174.3673 - accuracy: 0.3500 - val_loss: 131.6196 - val_accuracy: 0.3000\n",
            "Epoch 3/10\n",
            "3/3 [==============================] - 0s 103ms/step - loss: 170.9216 - accuracy: 0.4625 - val_loss: 126.5059 - val_accuracy: 0.3000\n",
            "Epoch 4/10\n",
            "3/3 [==============================] - 0s 109ms/step - loss: 115.8394 - accuracy: 0.5500 - val_loss: 163.0789 - val_accuracy: 0.2500\n",
            "Epoch 5/10\n",
            "3/3 [==============================] - 0s 107ms/step - loss: 140.4651 - accuracy: 0.6125 - val_loss: 139.7240 - val_accuracy: 0.3000\n",
            "Epoch 6/10\n",
            "3/3 [==============================] - 0s 106ms/step - loss: 89.3332 - accuracy: 0.6750 - val_loss: 120.0826 - val_accuracy: 0.2500\n",
            "Epoch 7/10\n",
            "3/3 [==============================] - 0s 104ms/step - loss: 109.7680 - accuracy: 0.7125 - val_loss: 155.0399 - val_accuracy: 0.1500\n",
            "Epoch 8/10\n",
            "3/3 [==============================] - 0s 112ms/step - loss: 89.4102 - accuracy: 0.6125 - val_loss: 243.4834 - val_accuracy: 0.1500\n",
            "Epoch 9/10\n",
            "3/3 [==============================] - 0s 103ms/step - loss: 68.5194 - accuracy: 0.7500 - val_loss: 332.9166 - val_accuracy: 0.1500\n",
            "Epoch 10/10\n",
            "3/3 [==============================] - 0s 103ms/step - loss: 66.1223 - accuracy: 0.8000 - val_loss: 283.1616 - val_accuracy: 0.1500\n"
          ]
        }
      ]
    },
    {
      "cell_type": "code",
      "source": [
        "# Plotting training history (optional)\n",
        "import matplotlib.pyplot as plt\n",
        "\n",
        "# Plot training & validation accuracy values\n",
        "plt.figure(figsize=(14,5))\n",
        "plt.subplot(1, 2, 1)\n",
        "plt.plot(history.history['accuracy'])\n",
        "plt.plot(history.history['val_accuracy'])\n",
        "plt.title('Model accuracy')\n",
        "plt.ylabel('Accuracy')\n",
        "plt.xlabel('Epoch')\n",
        "plt.legend(['Train', 'Validation'], loc='upper left')\n",
        "\n",
        "# Plot training & validation loss values\n",
        "plt.subplot(1, 2, 2)\n",
        "plt.plot(history.history['loss'])\n",
        "plt.plot(history.history['val_loss'])\n",
        "plt.title('Model loss')\n",
        "plt.ylabel('Loss')\n",
        "plt.xlabel('Epoch')\n",
        "plt.legend(['Train', 'Validation'], loc='upper left')\n",
        "plt.tight_layout()\n",
        "plt.show()"
      ],
      "metadata": {
        "colab": {
          "base_uri": "https://localhost:8080/",
          "height": 507
        },
        "id": "fYPbCQSUWWTn",
        "outputId": "5c826c3a-389f-40dc-ddce-ada17e2b2086"
      },
      "execution_count": 22,
      "outputs": [
        {
          "output_type": "display_data",
          "data": {
            "text/plain": [
              "<Figure size 1400x500 with 2 Axes>"
            ],
            "image/png": "[encoded data removed]"
          },
          "metadata": {}
        }
      ]
    },
    {
      "cell_type": "markdown",
      "source": [
        "### Test Model"
      ],
      "metadata": {
        "id": "JL6IQsboWqYt"
      }
    },
    {
      "cell_type": "code",
      "source": [
        "# 1. Generate Synthetic Test Strings\n",
        "test_sentences_system_prompt = [\"You are a helpful assistant designed to provide information on a variety of topics.\"]\n",
        "test_sentences_question = [\"What's the difference between classical and quantum computing?\"]\n",
        "test_sentences_response = [\"Classical computing uses bits (0s or 1s), while quantum computing uses qubits, which can be both 0 and 1 simultaneously due to superposition. This gives quantum computers potential for greater computational power.\"]\n",
        "test_sentences_instruct_model_response = [\"Classical computers use bits, either 0 or 1. Quantum computers use qubits that can represent both 0 and 1 at the same time, allowing them to process more information.\"]\n",
        "test_sentences_openorca_model_response = [\"Regular computers use bits. Quantum ones use qubits that can be 0 and 1 at once. It's like they're super-charged!\"]\n",
        "\n",
        "# 2. Convert Strings to Embeddings\n",
        "embeddings_system_prompt = get_embeddings(test_sentences_system_prompt, 64)\n",
        "embeddings_question = get_embeddings(test_sentences_question, 512)\n",
        "embeddings_response = get_embeddings(test_sentences_response, 512)\n",
        "embeddings_instruct_model_response = get_embeddings(test_sentences_instruct_model_response, 512)\n",
        "embeddings_openorca_model_response = get_embeddings(test_sentences_openorca_model_response, 512)\n",
        "\n",
        "# 3. Concatenate Embeddings\n",
        "X_test = tf.concat([\n",
        "    embeddings_system_prompt,\n",
        "    embeddings_question,\n",
        "    embeddings_response,\n",
        "    embeddings_instruct_model_response,\n",
        "    embeddings_openorca_model_response], axis=1)\n",
        "\n",
        "# 4. Predict Rankings\n",
        "predictions = model.predict(X_test)\n",
        "predicted_indices = np.argmax(predictions, axis=1)\n",
        "\n",
        "# 5. Decode Predictions to human-readable rankings\n",
        "ranking_dict = {\n",
        "    0: \"A, B, C\",\n",
        "    1: \"A, C, B\",\n",
        "    2: \"B, A, C\",\n",
        "    3: \"B, C, A\",\n",
        "    4: \"C, A, B\",\n",
        "    5: \"C, B, A\"\n",
        "}\n",
        "decoded_rankings = [ranking_dict[idx] for idx in predicted_indices]\n",
        "\n",
        "# Display some of the decoded rankings\n",
        "print(decoded_rankings)"
      ],
      "metadata": {
        "colab": {
          "base_uri": "https://localhost:8080/"
        },
        "id": "6xmvNjDlWrlq",
        "outputId": "3d34a934-4529-4d73-edf6-fab3d185fd1c"
      },
      "execution_count": 23,
      "outputs": [
        {
          "output_type": "stream",
          "name": "stdout",
          "text": [
            "1/1 [==============================] - 0s 90ms/step\n",
            "['A, C, B']\n"
          ]
        }
      ]
    },
    {
      "cell_type": "markdown",
      "source": [
        "### Pairwise Reward Model"
      ],
      "metadata": {
        "id": "m6PMykZlhIxS"
      }
    },
    {
      "cell_type": "code",
      "source": [
        "concatenated_A_and_B_embeddings = tf.concat([system_prompt_embeddings,\n",
        "                                     question_embeddings,\n",
        "                                     response_embeddings,\n",
        "                                     instruct_model_response_embeddings], axis=1)\n",
        "\n",
        "concatenated_A_and_C_embeddings = tf.concat([system_prompt_embeddings,\n",
        "                                     question_embeddings,\n",
        "                                     response_embeddings,\n",
        "                                     openorca_model_response_embeddings], axis=1)\n",
        "\n",
        "concatenated_B_and_C_embeddings = tf.concat([system_prompt_embeddings,\n",
        "                                     question_embeddings,\n",
        "                                     instruct_model_response_embeddings,\n",
        "                                     openorca_model_response_embeddings], axis=1)\n",
        "\n",
        "concatenated_all_embeddings = tf.concat([concatenated_A_and_B_embeddings,\n",
        "                                         concatenated_A_and_C_embeddings,\n",
        "                                         concatenated_B_and_C_embeddings], axis=0)\n",
        "\n",
        "print(concatenated_all_embeddings.shape)"
      ],
      "metadata": {
        "colab": {
          "base_uri": "https://localhost:8080/"
        },
        "id": "rroUfGNChK7S",
        "outputId": "e1e178c3-ba67-410a-9e5c-b958a0f9ff72"
      },
      "execution_count": 24,
      "outputs": [
        {
          "output_type": "stream",
          "name": "stdout",
          "text": [
            "(300, 1600, 768)\n"
          ]
        }
      ]
    },
    {
      "cell_type": "code",
      "source": [
        "X_train_pairwise = concatenated_all_embeddings"
      ],
      "metadata": {
        "id": "s5AgLZAajYXT"
      },
      "execution_count": 25,
      "outputs": []
    },
    {
      "cell_type": "code",
      "source": [
        "import numpy as np\n",
        "\n",
        "df_train_first100_ranked['tuple_rank_A_B'] = list(zip(df_train_first100_ranked['response_rank'],\n",
        "                                                 df_train_first100_ranked['instruct_model_response_rank']))\n",
        "\n",
        "df_train_first100_ranked['tuple_rank_A_C'] = list(zip(df_train_first100_ranked['response_rank'],\n",
        "                                                 df_train_first100_ranked['openorca_model_response_rank']))\n",
        "\n",
        "df_train_first100_ranked['tuple_rank_B_C'] = list(zip(df_train_first100_ranked['instruct_model_response_rank'],\n",
        "                                                 df_train_first100_ranked['openorca_model_response_rank']))\n",
        "\n",
        "rank_map = {\n",
        "    (1, 2): [1, 0],\n",
        "    (1, 3): [1, 0],\n",
        "    (2, 3): [1, 0],\n",
        "    (2, 1): [0, 1],\n",
        "    (3, 1): [0, 1],\n",
        "    (3, 2): [0, 1],\n",
        "}\n",
        "\n",
        "y_train_A_B = np.array(df_train_first100_ranked['tuple_rank_A_B'].map(rank_map).tolist())\n",
        "y_train_A_C = np.array(df_train_first100_ranked['tuple_rank_A_C'].map(rank_map).tolist())\n",
        "y_train_B_C = np.array(df_train_first100_ranked['tuple_rank_B_C'].map(rank_map).tolist())\n",
        "y_train_pairwise = np.concatenate([y_train_A_B, y_train_A_C, y_train_B_C], axis=0)\n",
        "\n",
        "print(y_train_pairwise.shape)"
      ],
      "metadata": {
        "colab": {
          "base_uri": "https://localhost:8080/"
        },
        "id": "MsDy1Gvbhi9y",
        "outputId": "50aab205-0e31-4974-e322-711722224ed3"
      },
      "execution_count": 26,
      "outputs": [
        {
          "output_type": "stream",
          "name": "stdout",
          "text": [
            "(300, 2)\n"
          ]
        }
      ]
    },
    {
      "cell_type": "code",
      "source": [
        "import tensorflow as tf\n",
        "from tensorflow.keras import layers\n",
        "\n",
        "# Define the model\n",
        "model_pairwise = tf.keras.Sequential([\n",
        "    layers.Flatten(input_shape=(1600, 768)),\n",
        "    layers.Dense(512, activation='relu'),\n",
        "    layers.Dropout(0.5),\n",
        "    layers.Dense(256, activation='relu'),\n",
        "    layers.Dropout(0.5),\n",
        "    layers.Dense(2, activation='softmax')\n",
        "])\n",
        "\n",
        "model_pairwise.compile(optimizer='adam',\n",
        "              loss='categorical_crossentropy',\n",
        "              metrics=['accuracy'])\n",
        "\n",
        "model_pairwise.summary()"
      ],
      "metadata": {
        "colab": {
          "base_uri": "https://localhost:8080/"
        },
        "id": "bR_46y2Gi61g",
        "outputId": "767300a1-40e6-404e-f29b-6fb2ed72e006"
      },
      "execution_count": 27,
      "outputs": [
        {
          "output_type": "stream",
          "name": "stdout",
          "text": [
            "Model: \"sequential_1\"\n",
            "_________________________________________________________________\n",
            " Layer (type)                Output Shape              Param #   \n",
            "=================================================================\n",
            " flatten_1 (Flatten)         (None, 1228800)           0         \n",
            "                                                                 \n",
            " dense_3 (Dense)             (None, 512)               629146112 \n",
            "                                                                 \n",
            " dropout_39 (Dropout)        (None, 512)               0         \n",
            "                                                                 \n",
            " dense_4 (Dense)             (None, 256)               131328    \n",
            "                                                                 \n",
            " dropout_40 (Dropout)        (None, 256)               0         \n",
            "                                                                 \n",
            " dense_5 (Dense)             (None, 2)                 514       \n",
            "                                                                 \n",
            "=================================================================\n",
            "Total params: 629277954 (2.34 GB)\n",
            "Trainable params: 629277954 (2.34 GB)\n",
            "Non-trainable params: 0 (0.00 Byte)\n",
            "_________________________________________________________________\n"
          ]
        }
      ]
    },
    {
      "cell_type": "code",
      "source": [
        "# Train the model\n",
        "history_pairwise = model_pairwise.fit(X_train_pairwise, y_train_pairwise, epochs=10, batch_size=32, validation_split=0.2)"
      ],
      "metadata": {
        "colab": {
          "base_uri": "https://localhost:8080/"
        },
        "id": "jLC5bWiGjSi1",
        "outputId": "4ca4aff7-d4e1-4544-b56f-3cb01547dd11"
      },
      "execution_count": 28,
      "outputs": [
        {
          "output_type": "stream",
          "name": "stdout",
          "text": [
            "Epoch 1/10\n",
            "8/8 [==============================] - 2s 122ms/step - loss: 142.8007 - accuracy: 0.4833 - val_loss: 128.6843 - val_accuracy: 0.3000\n",
            "Epoch 2/10\n",
            "8/8 [==============================] - 1s 75ms/step - loss: 101.5165 - accuracy: 0.5583 - val_loss: 120.2779 - val_accuracy: 0.3167\n",
            "Epoch 3/10\n",
            "8/8 [==============================] - 1s 75ms/step - loss: 89.4696 - accuracy: 0.5917 - val_loss: 36.0726 - val_accuracy: 0.5667\n",
            "Epoch 4/10\n",
            "8/8 [==============================] - 1s 73ms/step - loss: 73.2351 - accuracy: 0.6083 - val_loss: 81.5672 - val_accuracy: 0.3000\n",
            "Epoch 5/10\n",
            "8/8 [==============================] - 1s 73ms/step - loss: 58.1650 - accuracy: 0.7000 - val_loss: 58.5669 - val_accuracy: 0.3833\n",
            "Epoch 6/10\n",
            "8/8 [==============================] - 1s 75ms/step - loss: 55.8275 - accuracy: 0.6417 - val_loss: 57.3076 - val_accuracy: 0.4833\n",
            "Epoch 7/10\n",
            "8/8 [==============================] - 1s 73ms/step - loss: 44.9494 - accuracy: 0.6625 - val_loss: 96.1151 - val_accuracy: 0.3167\n",
            "Epoch 8/10\n",
            "8/8 [==============================] - 1s 73ms/step - loss: 40.8508 - accuracy: 0.7167 - val_loss: 67.7051 - val_accuracy: 0.5667\n",
            "Epoch 9/10\n",
            "8/8 [==============================] - 1s 74ms/step - loss: 27.7778 - accuracy: 0.7375 - val_loss: 79.7313 - val_accuracy: 0.4667\n",
            "Epoch 10/10\n",
            "8/8 [==============================] - 1s 73ms/step - loss: 28.8598 - accuracy: 0.7875 - val_loss: 86.0926 - val_accuracy: 0.4167\n"
          ]
        }
      ]
    },
    {
      "cell_type": "code",
      "source": [
        "# Plotting training history (optional)\n",
        "import matplotlib.pyplot as plt\n",
        "\n",
        "# Plot training & validation accuracy values\n",
        "plt.figure(figsize=(14,5))\n",
        "plt.subplot(1, 2, 1)\n",
        "plt.plot(history_pairwise.history['accuracy'])\n",
        "plt.plot(history_pairwise.history['val_accuracy'])\n",
        "plt.title('Model accuracy')\n",
        "plt.ylabel('Accuracy')\n",
        "plt.xlabel('Epoch')\n",
        "plt.legend(['Train', 'Validation'], loc='upper left')\n",
        "\n",
        "# Plot training & validation loss values\n",
        "plt.subplot(1, 2, 2)\n",
        "plt.plot(history_pairwise.history['loss'])\n",
        "plt.plot(history_pairwise.history['val_loss'])\n",
        "plt.title('Model loss')\n",
        "plt.ylabel('Loss')\n",
        "plt.xlabel('Epoch')\n",
        "plt.legend(['Train', 'Validation'], loc='upper left')\n",
        "plt.tight_layout()\n",
        "plt.show()"
      ],
      "metadata": {
        "colab": {
          "base_uri": "https://localhost:8080/",
          "height": 507
        },
        "id": "oG0iQityjhpz",
        "outputId": "b537453f-d525-46fe-8980-63999ff3b987"
      },
      "execution_count": 29,
      "outputs": [
        {
          "output_type": "display_data",
          "data": {
            "text/plain": [
              "<Figure size 1400x500 with 2 Axes>"
            ],
            "image/png": "[encoded data removed]"
          },
          "metadata": {}
        }
      ]
    },
    {
      "cell_type": "code",
      "source": [
        "# 1. Generate Synthetic Test Strings\n",
        "test_sentences_system_prompt = [\"You are a helpful assistant designed to provide information on a variety of topics.\"]\n",
        "test_sentences_question = [\"What's the difference between classical and quantum computing?\"]\n",
        "test_sentences_response = [\"Classical computing uses bits (0s or 1s), while quantum computing uses qubits, which can be both 0 and 1 simultaneously due to superposition. This gives quantum computers potential for greater computational power.\"]\n",
        "test_sentences_instruct_model_response = [\"Classical computers use bits, either 0 or 1. Quantum computers use qubits that can represent both 0 and 1 at the same time, allowing them to process more information.\"]\n",
        "test_sentences_openorca_model_response = [\"Regular computers use bits. Quantum ones use qubits that can be 0 and 1 at once. It's like they're super-charged!\"]\n",
        "\n",
        "# 2. Convert Strings to Embeddings\n",
        "embeddings_system_prompt = get_embeddings(test_sentences_system_prompt, 64)\n",
        "embeddings_question = get_embeddings(test_sentences_question, 512)\n",
        "embeddings_response = get_embeddings(test_sentences_response, 512)\n",
        "embeddings_instruct_model_response = get_embeddings(test_sentences_instruct_model_response, 512)\n",
        "embeddings_openorca_model_response = get_embeddings(test_sentences_openorca_model_response, 512)\n",
        "\n",
        "# 3. Concatenate Embeddings\n",
        "X_test_A_B = tf.concat([\n",
        "    embeddings_system_prompt,\n",
        "    embeddings_question,\n",
        "    embeddings_response,\n",
        "    embeddings_instruct_model_response], axis=1)\n",
        "\n",
        "X_test_A_C = tf.concat([\n",
        "    embeddings_system_prompt,\n",
        "    embeddings_question,\n",
        "    embeddings_response,\n",
        "    embeddings_openorca_model_response], axis=1)\n",
        "\n",
        "X_test_B_C = tf.concat([\n",
        "    embeddings_system_prompt,\n",
        "    embeddings_question,\n",
        "    embeddings_instruct_model_response,\n",
        "    embeddings_openorca_model_response], axis=1)\n",
        "\n",
        "# 4. Predict Rankings\n",
        "predictions_A_B = model_pairwise.predict(X_test_A_B)\n",
        "predicted_indices_A_B = np.argmax(predictions_A_B, axis=1)\n",
        "\n",
        "predictions_A_C = model_pairwise.predict(X_test_A_C)\n",
        "predicted_indices_A_C = np.argmax(predictions_A_C, axis=1)\n",
        "\n",
        "predictions_B_C = model_pairwise.predict(X_test_B_C)\n",
        "predicted_indices_B_C = np.argmax(predictions_B_C, axis=1)\n",
        "\n",
        "predicted_indices_all = np.concatenate([predicted_indices_A_B, predicted_indices_A_C, predicted_indices_B_C], axis=0)\n",
        "\n",
        "# 5. Decode Predictions to human-readable rankings\n",
        "ranking_dict_pairwise = {\n",
        "    0: \"Response 1, Response 2\",\n",
        "    1: \"Response 2, Response 1\",\n",
        "}\n",
        "\n",
        "decoded_rankings_pairwise = [ranking_dict_pairwise[idx] for idx in predicted_indices_all]\n",
        "\n",
        "# Display some of the decoded rankings\n",
        "print(decoded_rankings_pairwise)"
      ],
      "metadata": {
        "colab": {
          "base_uri": "https://localhost:8080/"
        },
        "id": "TfxMOHEMkhXl",
        "outputId": "244fe09a-0e8d-47b8-87ba-5d8e26d5bc7b"
      },
      "execution_count": 35,
      "outputs": [
        {
          "output_type": "stream",
          "name": "stdout",
          "text": [
            "1/1 [==============================] - 0s 24ms/step\n",
            "1/1 [==============================] - 0s 22ms/step\n",
            "1/1 [==============================] - 0s 22ms/step\n",
            "['Response 1, Response 2', 'Response 1, Response 2', 'Response 1, Response 2']\n"
          ]
        }
      ]
    }
  ]
}